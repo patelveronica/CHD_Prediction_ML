import numpy as np
import pandas as pd
import statsmodels.api as sm
import matplotlib.pyplot as plt
from patsy import dmatrices
from sklearn.linear_model import LogisticRegression 
from sklearn.model_selection import train_test_split
from sklearn.preprocessing import StandardScaler
from sklearn import metrics 

# ?load the clean data
df = pd.read_csv('framingham_cleandata.csv')
# Dropping Unnamed:0 column
df = df.drop(['Unnamed: 0'], axis=1)

# Dropping Education column
df = df.drop(['education'], axis=1)

X=df.drop('TenYearCHD', axis=1)
y=df['TenYearCHD'] != 1

# Split the data into training and testing data
X_train, X_test, y_train, y_test = train_test_split(X, y, random_state=1)
# Scale the data and fit the model
scaler = StandardScaler().fit(X_train)
X_train_scaled = scaler.transform(X_train)
X_test_scaled = scaler.transform(X_test)

# Train the Logistic Regression model on the unscaled data and print the model score
# create logistic model
model = LogisticRegression()
model = model.fit(X_train, y_train)

# # Make the predictions
print(f"Training Data Score: {model.score(X_train, y_train)}")
print(f"Testing Data Score: {model.score(X_test, y_test)}")


import pickle
pickle.dump(model, open('model.pickle', 'wb'))