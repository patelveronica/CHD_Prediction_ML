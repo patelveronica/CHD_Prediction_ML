{
 "cells": [
  {
   "cell_type": "code",
   "execution_count": 1,
   "id": "8421e1d6",
   "metadata": {},
   "outputs": [],
   "source": [
    "#importing modules\n",
    "import numpy as np\n",
    "import pandas as pd\n",
    "import matplotlib.pyplot as plt\n",
    "import seaborn as sns\n",
    "from sklearn.ensemble import RandomForestClassifier\n",
    "from sklearn.linear_model import LogisticRegression\n",
    "from sklearn.model_selection import train_test_split\n",
    "from sklearn.preprocessing import StandardScaler\n",
    "from sklearn.neighbors import KNeighborsClassifier\n",
    "from sklearn.metrics import accuracy_score,confusion_matrix, classification_report\n",
    "# import tensorflow as tf"
   ]
  },
  {
   "cell_type": "code",
   "execution_count": 2,
   "id": "c71cc699",
   "metadata": {},
   "outputs": [
    {
     "data": {
      "text/html": [
       "<div>\n",
       "<style scoped>\n",
       "    .dataframe tbody tr th:only-of-type {\n",
       "        vertical-align: middle;\n",
       "    }\n",
       "\n",
       "    .dataframe tbody tr th {\n",
       "        vertical-align: top;\n",
       "    }\n",
       "\n",
       "    .dataframe thead th {\n",
       "        text-align: right;\n",
       "    }\n",
       "</style>\n",
       "<table border=\"1\" class=\"dataframe\">\n",
       "  <thead>\n",
       "    <tr style=\"text-align: right;\">\n",
       "      <th></th>\n",
       "      <th>male</th>\n",
       "      <th>age</th>\n",
       "      <th>education</th>\n",
       "      <th>currentSmoker</th>\n",
       "      <th>cigsPerDay</th>\n",
       "      <th>BPMeds</th>\n",
       "      <th>prevalentStroke</th>\n",
       "      <th>prevalentHyp</th>\n",
       "      <th>diabetes</th>\n",
       "      <th>totChol</th>\n",
       "      <th>sysBP</th>\n",
       "      <th>diaBP</th>\n",
       "      <th>BMI</th>\n",
       "      <th>heartRate</th>\n",
       "      <th>glucose</th>\n",
       "      <th>TenYearCHD</th>\n",
       "    </tr>\n",
       "  </thead>\n",
       "  <tbody>\n",
       "    <tr>\n",
       "      <th>0</th>\n",
       "      <td>1</td>\n",
       "      <td>39</td>\n",
       "      <td>4.0</td>\n",
       "      <td>0</td>\n",
       "      <td>0.0</td>\n",
       "      <td>0.0</td>\n",
       "      <td>0</td>\n",
       "      <td>0</td>\n",
       "      <td>0</td>\n",
       "      <td>195.0</td>\n",
       "      <td>106.0</td>\n",
       "      <td>70.0</td>\n",
       "      <td>26.97</td>\n",
       "      <td>80.0</td>\n",
       "      <td>77.0</td>\n",
       "      <td>0</td>\n",
       "    </tr>\n",
       "    <tr>\n",
       "      <th>1</th>\n",
       "      <td>0</td>\n",
       "      <td>46</td>\n",
       "      <td>2.0</td>\n",
       "      <td>0</td>\n",
       "      <td>0.0</td>\n",
       "      <td>0.0</td>\n",
       "      <td>0</td>\n",
       "      <td>0</td>\n",
       "      <td>0</td>\n",
       "      <td>250.0</td>\n",
       "      <td>121.0</td>\n",
       "      <td>81.0</td>\n",
       "      <td>28.73</td>\n",
       "      <td>95.0</td>\n",
       "      <td>76.0</td>\n",
       "      <td>0</td>\n",
       "    </tr>\n",
       "    <tr>\n",
       "      <th>2</th>\n",
       "      <td>1</td>\n",
       "      <td>48</td>\n",
       "      <td>1.0</td>\n",
       "      <td>1</td>\n",
       "      <td>20.0</td>\n",
       "      <td>0.0</td>\n",
       "      <td>0</td>\n",
       "      <td>0</td>\n",
       "      <td>0</td>\n",
       "      <td>245.0</td>\n",
       "      <td>127.5</td>\n",
       "      <td>80.0</td>\n",
       "      <td>25.34</td>\n",
       "      <td>75.0</td>\n",
       "      <td>70.0</td>\n",
       "      <td>0</td>\n",
       "    </tr>\n",
       "    <tr>\n",
       "      <th>3</th>\n",
       "      <td>0</td>\n",
       "      <td>61</td>\n",
       "      <td>3.0</td>\n",
       "      <td>1</td>\n",
       "      <td>30.0</td>\n",
       "      <td>0.0</td>\n",
       "      <td>0</td>\n",
       "      <td>1</td>\n",
       "      <td>0</td>\n",
       "      <td>225.0</td>\n",
       "      <td>150.0</td>\n",
       "      <td>95.0</td>\n",
       "      <td>28.58</td>\n",
       "      <td>65.0</td>\n",
       "      <td>103.0</td>\n",
       "      <td>1</td>\n",
       "    </tr>\n",
       "    <tr>\n",
       "      <th>4</th>\n",
       "      <td>0</td>\n",
       "      <td>46</td>\n",
       "      <td>3.0</td>\n",
       "      <td>1</td>\n",
       "      <td>23.0</td>\n",
       "      <td>0.0</td>\n",
       "      <td>0</td>\n",
       "      <td>0</td>\n",
       "      <td>0</td>\n",
       "      <td>285.0</td>\n",
       "      <td>130.0</td>\n",
       "      <td>84.0</td>\n",
       "      <td>23.10</td>\n",
       "      <td>85.0</td>\n",
       "      <td>85.0</td>\n",
       "      <td>0</td>\n",
       "    </tr>\n",
       "    <tr>\n",
       "      <th>5</th>\n",
       "      <td>0</td>\n",
       "      <td>43</td>\n",
       "      <td>2.0</td>\n",
       "      <td>0</td>\n",
       "      <td>0.0</td>\n",
       "      <td>0.0</td>\n",
       "      <td>0</td>\n",
       "      <td>1</td>\n",
       "      <td>0</td>\n",
       "      <td>228.0</td>\n",
       "      <td>180.0</td>\n",
       "      <td>110.0</td>\n",
       "      <td>30.30</td>\n",
       "      <td>77.0</td>\n",
       "      <td>99.0</td>\n",
       "      <td>0</td>\n",
       "    </tr>\n",
       "    <tr>\n",
       "      <th>6</th>\n",
       "      <td>0</td>\n",
       "      <td>63</td>\n",
       "      <td>1.0</td>\n",
       "      <td>0</td>\n",
       "      <td>0.0</td>\n",
       "      <td>0.0</td>\n",
       "      <td>0</td>\n",
       "      <td>0</td>\n",
       "      <td>0</td>\n",
       "      <td>205.0</td>\n",
       "      <td>138.0</td>\n",
       "      <td>71.0</td>\n",
       "      <td>33.11</td>\n",
       "      <td>60.0</td>\n",
       "      <td>85.0</td>\n",
       "      <td>1</td>\n",
       "    </tr>\n",
       "    <tr>\n",
       "      <th>7</th>\n",
       "      <td>0</td>\n",
       "      <td>45</td>\n",
       "      <td>2.0</td>\n",
       "      <td>1</td>\n",
       "      <td>20.0</td>\n",
       "      <td>0.0</td>\n",
       "      <td>0</td>\n",
       "      <td>0</td>\n",
       "      <td>0</td>\n",
       "      <td>313.0</td>\n",
       "      <td>100.0</td>\n",
       "      <td>71.0</td>\n",
       "      <td>21.68</td>\n",
       "      <td>79.0</td>\n",
       "      <td>78.0</td>\n",
       "      <td>0</td>\n",
       "    </tr>\n",
       "    <tr>\n",
       "      <th>8</th>\n",
       "      <td>1</td>\n",
       "      <td>52</td>\n",
       "      <td>1.0</td>\n",
       "      <td>0</td>\n",
       "      <td>0.0</td>\n",
       "      <td>0.0</td>\n",
       "      <td>0</td>\n",
       "      <td>1</td>\n",
       "      <td>0</td>\n",
       "      <td>260.0</td>\n",
       "      <td>141.5</td>\n",
       "      <td>89.0</td>\n",
       "      <td>26.36</td>\n",
       "      <td>76.0</td>\n",
       "      <td>79.0</td>\n",
       "      <td>0</td>\n",
       "    </tr>\n",
       "    <tr>\n",
       "      <th>9</th>\n",
       "      <td>1</td>\n",
       "      <td>43</td>\n",
       "      <td>1.0</td>\n",
       "      <td>1</td>\n",
       "      <td>30.0</td>\n",
       "      <td>0.0</td>\n",
       "      <td>0</td>\n",
       "      <td>1</td>\n",
       "      <td>0</td>\n",
       "      <td>225.0</td>\n",
       "      <td>162.0</td>\n",
       "      <td>107.0</td>\n",
       "      <td>23.61</td>\n",
       "      <td>93.0</td>\n",
       "      <td>88.0</td>\n",
       "      <td>0</td>\n",
       "    </tr>\n",
       "  </tbody>\n",
       "</table>\n",
       "</div>"
      ],
      "text/plain": [
       "   male  age  education  currentSmoker  cigsPerDay  BPMeds  prevalentStroke  \\\n",
       "0     1   39        4.0              0         0.0     0.0                0   \n",
       "1     0   46        2.0              0         0.0     0.0                0   \n",
       "2     1   48        1.0              1        20.0     0.0                0   \n",
       "3     0   61        3.0              1        30.0     0.0                0   \n",
       "4     0   46        3.0              1        23.0     0.0                0   \n",
       "5     0   43        2.0              0         0.0     0.0                0   \n",
       "6     0   63        1.0              0         0.0     0.0                0   \n",
       "7     0   45        2.0              1        20.0     0.0                0   \n",
       "8     1   52        1.0              0         0.0     0.0                0   \n",
       "9     1   43        1.0              1        30.0     0.0                0   \n",
       "\n",
       "   prevalentHyp  diabetes  totChol  sysBP  diaBP    BMI  heartRate  glucose  \\\n",
       "0             0         0    195.0  106.0   70.0  26.97       80.0     77.0   \n",
       "1             0         0    250.0  121.0   81.0  28.73       95.0     76.0   \n",
       "2             0         0    245.0  127.5   80.0  25.34       75.0     70.0   \n",
       "3             1         0    225.0  150.0   95.0  28.58       65.0    103.0   \n",
       "4             0         0    285.0  130.0   84.0  23.10       85.0     85.0   \n",
       "5             1         0    228.0  180.0  110.0  30.30       77.0     99.0   \n",
       "6             0         0    205.0  138.0   71.0  33.11       60.0     85.0   \n",
       "7             0         0    313.0  100.0   71.0  21.68       79.0     78.0   \n",
       "8             1         0    260.0  141.5   89.0  26.36       76.0     79.0   \n",
       "9             1         0    225.0  162.0  107.0  23.61       93.0     88.0   \n",
       "\n",
       "   TenYearCHD  \n",
       "0           0  \n",
       "1           0  \n",
       "2           0  \n",
       "3           1  \n",
       "4           0  \n",
       "5           0  \n",
       "6           1  \n",
       "7           0  \n",
       "8           0  \n",
       "9           0  "
      ]
     },
     "execution_count": 2,
     "metadata": {},
     "output_type": "execute_result"
    }
   ],
   "source": [
    "# ?load the clean data\n",
    "df = pd.read_csv('framingham_cleandata.csv')\n",
    "# Dropping Unnamed:0 column\n",
    "df = df.drop(['Unnamed: 0'], axis=1)\n",
    "df.head(10)"
   ]
  },
  {
   "cell_type": "code",
   "execution_count": 3,
   "id": "085cb36d",
   "metadata": {},
   "outputs": [
    {
     "name": "stdout",
     "output_type": "stream",
     "text": [
      "No. of Records : 4240 \n",
      "No. of Features :  16\n"
     ]
    }
   ],
   "source": [
    "#Shape of dataset\n",
    "print ('No. of Records :', df.shape[0], '\\nNo. of Features : ', df.shape[1])"
   ]
  },
  {
   "cell_type": "markdown",
   "id": "41c1b692",
   "metadata": {},
   "source": [
    "### Based on the Correlation between different features, education is not relavent."
   ]
  },
  {
   "cell_type": "code",
   "execution_count": 4,
   "id": "f30a4fc1",
   "metadata": {},
   "outputs": [],
   "source": [
    "# Dropping Education column\n",
    "df = df.drop(['education'], axis=1)"
   ]
  },
  {
   "cell_type": "code",
   "execution_count": 5,
   "id": "91804b52",
   "metadata": {
    "scrolled": true
   },
   "outputs": [
    {
     "data": {
      "text/html": [
       "<div>\n",
       "<style scoped>\n",
       "    .dataframe tbody tr th:only-of-type {\n",
       "        vertical-align: middle;\n",
       "    }\n",
       "\n",
       "    .dataframe tbody tr th {\n",
       "        vertical-align: top;\n",
       "    }\n",
       "\n",
       "    .dataframe thead th {\n",
       "        text-align: right;\n",
       "    }\n",
       "</style>\n",
       "<table border=\"1\" class=\"dataframe\">\n",
       "  <thead>\n",
       "    <tr style=\"text-align: right;\">\n",
       "      <th></th>\n",
       "      <th>male</th>\n",
       "      <th>age</th>\n",
       "      <th>currentSmoker</th>\n",
       "      <th>cigsPerDay</th>\n",
       "      <th>BPMeds</th>\n",
       "      <th>prevalentStroke</th>\n",
       "      <th>prevalentHyp</th>\n",
       "      <th>diabetes</th>\n",
       "      <th>totChol</th>\n",
       "      <th>sysBP</th>\n",
       "      <th>diaBP</th>\n",
       "      <th>BMI</th>\n",
       "      <th>heartRate</th>\n",
       "      <th>glucose</th>\n",
       "      <th>TenYearCHD</th>\n",
       "    </tr>\n",
       "  </thead>\n",
       "  <tbody>\n",
       "    <tr>\n",
       "      <th>count</th>\n",
       "      <td>4240.000000</td>\n",
       "      <td>4240.000000</td>\n",
       "      <td>4240.000000</td>\n",
       "      <td>4240.000000</td>\n",
       "      <td>4240.000000</td>\n",
       "      <td>4240.000000</td>\n",
       "      <td>4240.000000</td>\n",
       "      <td>4240.000000</td>\n",
       "      <td>4240.000000</td>\n",
       "      <td>4240.000000</td>\n",
       "      <td>4240.000000</td>\n",
       "      <td>4240.000000</td>\n",
       "      <td>4240.000000</td>\n",
       "      <td>4240.000000</td>\n",
       "      <td>4240.000000</td>\n",
       "    </tr>\n",
       "    <tr>\n",
       "      <th>mean</th>\n",
       "      <td>0.429245</td>\n",
       "      <td>49.580189</td>\n",
       "      <td>0.494104</td>\n",
       "      <td>9.081132</td>\n",
       "      <td>0.029245</td>\n",
       "      <td>0.005896</td>\n",
       "      <td>0.310613</td>\n",
       "      <td>0.025708</td>\n",
       "      <td>236.667689</td>\n",
       "      <td>132.354599</td>\n",
       "      <td>82.897759</td>\n",
       "      <td>25.798756</td>\n",
       "      <td>75.878774</td>\n",
       "      <td>81.600943</td>\n",
       "      <td>0.151887</td>\n",
       "    </tr>\n",
       "    <tr>\n",
       "      <th>std</th>\n",
       "      <td>0.495027</td>\n",
       "      <td>8.572942</td>\n",
       "      <td>0.500024</td>\n",
       "      <td>11.916119</td>\n",
       "      <td>0.168513</td>\n",
       "      <td>0.076569</td>\n",
       "      <td>0.462799</td>\n",
       "      <td>0.158280</td>\n",
       "      <td>44.328480</td>\n",
       "      <td>22.033300</td>\n",
       "      <td>11.910394</td>\n",
       "      <td>4.072774</td>\n",
       "      <td>12.023937</td>\n",
       "      <td>22.860340</td>\n",
       "      <td>0.358953</td>\n",
       "    </tr>\n",
       "    <tr>\n",
       "      <th>min</th>\n",
       "      <td>0.000000</td>\n",
       "      <td>32.000000</td>\n",
       "      <td>0.000000</td>\n",
       "      <td>0.000000</td>\n",
       "      <td>0.000000</td>\n",
       "      <td>0.000000</td>\n",
       "      <td>0.000000</td>\n",
       "      <td>0.000000</td>\n",
       "      <td>107.000000</td>\n",
       "      <td>83.500000</td>\n",
       "      <td>48.000000</td>\n",
       "      <td>15.540000</td>\n",
       "      <td>44.000000</td>\n",
       "      <td>40.000000</td>\n",
       "      <td>0.000000</td>\n",
       "    </tr>\n",
       "    <tr>\n",
       "      <th>25%</th>\n",
       "      <td>0.000000</td>\n",
       "      <td>42.000000</td>\n",
       "      <td>0.000000</td>\n",
       "      <td>0.000000</td>\n",
       "      <td>0.000000</td>\n",
       "      <td>0.000000</td>\n",
       "      <td>0.000000</td>\n",
       "      <td>0.000000</td>\n",
       "      <td>206.000000</td>\n",
       "      <td>117.000000</td>\n",
       "      <td>75.000000</td>\n",
       "      <td>23.077500</td>\n",
       "      <td>68.000000</td>\n",
       "      <td>72.000000</td>\n",
       "      <td>0.000000</td>\n",
       "    </tr>\n",
       "    <tr>\n",
       "      <th>50%</th>\n",
       "      <td>0.000000</td>\n",
       "      <td>49.000000</td>\n",
       "      <td>0.000000</td>\n",
       "      <td>0.000000</td>\n",
       "      <td>0.000000</td>\n",
       "      <td>0.000000</td>\n",
       "      <td>0.000000</td>\n",
       "      <td>0.000000</td>\n",
       "      <td>234.000000</td>\n",
       "      <td>128.000000</td>\n",
       "      <td>82.000000</td>\n",
       "      <td>25.397500</td>\n",
       "      <td>75.000000</td>\n",
       "      <td>78.000000</td>\n",
       "      <td>0.000000</td>\n",
       "    </tr>\n",
       "    <tr>\n",
       "      <th>75%</th>\n",
       "      <td>1.000000</td>\n",
       "      <td>56.000000</td>\n",
       "      <td>1.000000</td>\n",
       "      <td>20.000000</td>\n",
       "      <td>0.000000</td>\n",
       "      <td>0.000000</td>\n",
       "      <td>1.000000</td>\n",
       "      <td>0.000000</td>\n",
       "      <td>262.000000</td>\n",
       "      <td>144.000000</td>\n",
       "      <td>90.000000</td>\n",
       "      <td>28.040000</td>\n",
       "      <td>83.000000</td>\n",
       "      <td>85.000000</td>\n",
       "      <td>0.000000</td>\n",
       "    </tr>\n",
       "    <tr>\n",
       "      <th>max</th>\n",
       "      <td>1.000000</td>\n",
       "      <td>70.000000</td>\n",
       "      <td>1.000000</td>\n",
       "      <td>70.000000</td>\n",
       "      <td>1.000000</td>\n",
       "      <td>1.000000</td>\n",
       "      <td>1.000000</td>\n",
       "      <td>1.000000</td>\n",
       "      <td>696.000000</td>\n",
       "      <td>295.000000</td>\n",
       "      <td>142.500000</td>\n",
       "      <td>56.800000</td>\n",
       "      <td>143.000000</td>\n",
       "      <td>394.000000</td>\n",
       "      <td>1.000000</td>\n",
       "    </tr>\n",
       "  </tbody>\n",
       "</table>\n",
       "</div>"
      ],
      "text/plain": [
       "              male          age  currentSmoker   cigsPerDay       BPMeds  \\\n",
       "count  4240.000000  4240.000000    4240.000000  4240.000000  4240.000000   \n",
       "mean      0.429245    49.580189       0.494104     9.081132     0.029245   \n",
       "std       0.495027     8.572942       0.500024    11.916119     0.168513   \n",
       "min       0.000000    32.000000       0.000000     0.000000     0.000000   \n",
       "25%       0.000000    42.000000       0.000000     0.000000     0.000000   \n",
       "50%       0.000000    49.000000       0.000000     0.000000     0.000000   \n",
       "75%       1.000000    56.000000       1.000000    20.000000     0.000000   \n",
       "max       1.000000    70.000000       1.000000    70.000000     1.000000   \n",
       "\n",
       "       prevalentStroke  prevalentHyp     diabetes      totChol        sysBP  \\\n",
       "count      4240.000000   4240.000000  4240.000000  4240.000000  4240.000000   \n",
       "mean          0.005896      0.310613     0.025708   236.667689   132.354599   \n",
       "std           0.076569      0.462799     0.158280    44.328480    22.033300   \n",
       "min           0.000000      0.000000     0.000000   107.000000    83.500000   \n",
       "25%           0.000000      0.000000     0.000000   206.000000   117.000000   \n",
       "50%           0.000000      0.000000     0.000000   234.000000   128.000000   \n",
       "75%           0.000000      1.000000     0.000000   262.000000   144.000000   \n",
       "max           1.000000      1.000000     1.000000   696.000000   295.000000   \n",
       "\n",
       "             diaBP          BMI    heartRate      glucose   TenYearCHD  \n",
       "count  4240.000000  4240.000000  4240.000000  4240.000000  4240.000000  \n",
       "mean     82.897759    25.798756    75.878774    81.600943     0.151887  \n",
       "std      11.910394     4.072774    12.023937    22.860340     0.358953  \n",
       "min      48.000000    15.540000    44.000000    40.000000     0.000000  \n",
       "25%      75.000000    23.077500    68.000000    72.000000     0.000000  \n",
       "50%      82.000000    25.397500    75.000000    78.000000     0.000000  \n",
       "75%      90.000000    28.040000    83.000000    85.000000     0.000000  \n",
       "max     142.500000    56.800000   143.000000   394.000000     1.000000  "
      ]
     },
     "execution_count": 5,
     "metadata": {},
     "output_type": "execute_result"
    }
   ],
   "source": [
    "#Descriptive Stats\n",
    "df.describe()"
   ]
  },
  {
   "cell_type": "markdown",
   "id": "eef43bad",
   "metadata": {},
   "source": [
    "## Prepare the data set: Scale, and undersampling method."
   ]
  },
  {
   "cell_type": "code",
   "execution_count": 6,
   "id": "f067fe3b",
   "metadata": {},
   "outputs": [],
   "source": [
    "# RandomForest Model\n",
    "X=df.drop('TenYearCHD', axis=1)\n",
    "y=df['TenYearCHD'] != 1"
   ]
  },
  {
   "cell_type": "code",
   "execution_count": 7,
   "id": "24c9c2de",
   "metadata": {},
   "outputs": [],
   "source": [
    "# Split the data into training and testing data\n",
    "X_train, X_test, y_train, y_test = train_test_split(X, y, random_state=1)\n",
    "# Scale the data and fit the model\n",
    "scaler = StandardScaler().fit(X_train)\n",
    "X_train_scaled = scaler.transform(X_train)\n",
    "X_test_scaled = scaler.transform(X_test)"
   ]
  },
  {
   "cell_type": "code",
   "execution_count": 8,
   "id": "217a83b9",
   "metadata": {},
   "outputs": [
    {
     "name": "stdout",
     "output_type": "stream",
     "text": [
      "3180\n"
     ]
    },
    {
     "data": {
      "text/plain": [
       "1060"
      ]
     },
     "execution_count": 8,
     "metadata": {},
     "output_type": "execute_result"
    }
   ],
   "source": [
    "print(len(X_train))\n",
    "len(X_test)"
   ]
  },
  {
   "cell_type": "markdown",
   "id": "d4e407a8",
   "metadata": {},
   "source": [
    "## Logistic Regression"
   ]
  },
  {
   "cell_type": "code",
   "execution_count": 9,
   "id": "fc82cb2b",
   "metadata": {},
   "outputs": [
    {
     "name": "stderr",
     "output_type": "stream",
     "text": [
      "C:\\Users\\patel\\anaconda3\\lib\\site-packages\\sklearn\\linear_model\\_logistic.py:763: ConvergenceWarning: lbfgs failed to converge (status=1):\n",
      "STOP: TOTAL NO. of ITERATIONS REACHED LIMIT.\n",
      "\n",
      "Increase the number of iterations (max_iter) or scale the data as shown in:\n",
      "    https://scikit-learn.org/stable/modules/preprocessing.html\n",
      "Please also refer to the documentation for alternative solver options:\n",
      "    https://scikit-learn.org/stable/modules/linear_model.html#logistic-regression\n",
      "  n_iter_i = _check_optimize_result(\n"
     ]
    },
    {
     "data": {
      "text/plain": [
       "LogisticRegression()"
      ]
     },
     "execution_count": 9,
     "metadata": {},
     "output_type": "execute_result"
    }
   ],
   "source": [
    "# Train the Logistic Regression model on the unscaled data and print the model score\n",
    "# create logistic model\n",
    "classifier = LogisticRegression()\n",
    "classifier.fit(X_train, y_train)"
   ]
  },
  {
   "cell_type": "code",
   "execution_count": 10,
   "id": "b36290e3",
   "metadata": {},
   "outputs": [
    {
     "name": "stdout",
     "output_type": "stream",
     "text": [
      "Training Data Score: 0.8493710691823899\n",
      "Testing Data Score: 0.8509433962264151\n"
     ]
    }
   ],
   "source": [
    "# # Make the predictions\n",
    "print(f\"Training Data Score: {classifier.score(X_train, y_train)}\")\n",
    "print(f\"Testing Data Score: {classifier.score(X_test, y_test)}\")"
   ]
  },
  {
   "cell_type": "markdown",
   "id": "bc844639",
   "metadata": {},
   "source": [
    "## Undersampling Imbalanced Dataset"
   ]
  },
  {
   "cell_type": "code",
   "execution_count": 11,
   "id": "8ecb9616",
   "metadata": {},
   "outputs": [],
   "source": [
    "# # undersampling imbalanced dataset and create new df\n",
    "# sampl_df = df.sample(frac=1,random_state=42)\n",
    "\n",
    "# # Put all the fraud class in a separate dataset.\n",
    "# fraud_df = sampl_df.loc[sampl_df['TenYearCHD'] == 1]\n",
    "\n",
    "# #Randomly select observations from the non-fraud (majority class)\n",
    "# non_fraud_df = sampl_df.loc[sampl_df['TenYearCHD'] == 0].sample(n=660,random_state=42)\n",
    "\n",
    "# # Concatenate both dataframes again\n",
    "# normalized_df = pd.concat([fraud_df, non_fraud_df])\n",
    "\n",
    "# # check new class counts\n",
    "# normalized_df.TenYearCHD.value_counts()\n",
    "\n",
    "# # plot new count\n",
    "# sns.countplot(normalized_df.TenYearCHD, palette=\"Blues\")\n",
    "# plt.box(False)\n",
    "# plt.xlabel('Heart Disease No/Yes',fontsize=11)\n",
    "# plt.ylabel('Patient Count',fontsize=11)\n",
    "# plt.title('Count Outcome Heart Disease after Resampling\\n')\n",
    "# #plt.savefig('Balance Heart Disease.png')\n",
    "# plt.show()"
   ]
  },
  {
   "cell_type": "code",
   "execution_count": 12,
   "id": "330009ce",
   "metadata": {},
   "outputs": [],
   "source": [
    "# print ('No. of Records :', normalized_df.shape[0], '\\nNo. of Features : ', normalized_df.shape[1])"
   ]
  },
  {
   "cell_type": "markdown",
   "id": "1a9e1dc9",
   "metadata": {},
   "source": [
    "## RandomForest "
   ]
  },
  {
   "cell_type": "code",
   "execution_count": 13,
   "id": "41dba4d7",
   "metadata": {},
   "outputs": [
    {
     "name": "stdout",
     "output_type": "stream",
     "text": [
      "Training Score: 1.0\n",
      "Testing Score: 0.8462264150943396\n"
     ]
    },
    {
     "data": {
      "text/plain": [
       "RandomForestClassifier(n_estimators=500, random_state=1)"
      ]
     },
     "execution_count": 13,
     "metadata": {},
     "output_type": "execute_result"
    }
   ],
   "source": [
    "# Validate the model by using test data and print the score\n",
    "clf = RandomForestClassifier(random_state=1, n_estimators=500).fit(X_train_scaled, y_train)\n",
    "print(f'Training Score: {clf.score(X_train_scaled, y_train)}')\n",
    "print(f'Testing Score: {clf.score(X_test_scaled, y_test)}')\n",
    "clf"
   ]
  },
  {
   "cell_type": "markdown",
   "id": "a82cd900",
   "metadata": {},
   "source": [
    "## RandomForest Feature Selection"
   ]
  },
  {
   "cell_type": "code",
   "execution_count": 14,
   "id": "57993173",
   "metadata": {},
   "outputs": [
    {
     "data": {
      "text/plain": [
       "array([0.02281769, 0.12280679, 0.01242954, 0.05347072, 0.00716012,\n",
       "       0.00273731, 0.01773998, 0.00747853, 0.13027085, 0.14619729,\n",
       "       0.11941091, 0.13786157, 0.10033264, 0.11928608])"
      ]
     },
     "execution_count": 14,
     "metadata": {},
     "output_type": "execute_result"
    }
   ],
   "source": [
    "feature_importances = clf.feature_importances_\n",
    "feature_importances"
   ]
  },
  {
   "cell_type": "code",
   "execution_count": 22,
   "id": "03d6e781",
   "metadata": {
    "scrolled": true
   },
   "outputs": [
    {
     "data": {
      "image/png": "[encoded data removed]",
      "text/plain": [
       "<Figure size 720x720 with 1 Axes>"
      ]
     },
     "metadata": {
      "needs_background": "light"
     },
     "output_type": "display_data"
    },
    {
     "data": {
      "text/plain": [
       "<Figure size 432x288 with 0 Axes>"
      ]
     },
     "metadata": {},
     "output_type": "display_data"
    }
   ],
   "source": [
    "features = sorted(zip(X.columns, clf.feature_importances_), key = lambda x: x[1])\n",
    "cols = [f[0] for f in features]\n",
    "width = [f[1] for f in features]\n",
    "\n",
    "fig, ax = plt.subplots()\n",
    "\n",
    "fig.set_size_inches(10,10)\n",
    "plt.margins(y=0.001)\n",
    "\n",
    "ax.barh(y=cols, width=width)\n",
    "\n",
    "plt.show()\n",
    "plt.savefig(\"Template/Resources/assets/images/important_features.png\")"
   ]
  },
  {
   "cell_type": "code",
   "execution_count": null,
   "id": "96e9f178",
   "metadata": {},
   "outputs": [
    {
     "data": {
      "text/plain": [
       "SelectFromModel(estimator=RandomForestClassifier(n_estimators=500,\n",
       "                                                 random_state=1))"
      ]
     },
     "execution_count": 29,
     "metadata": {},
     "output_type": "execute_result"
    }
   ],
   "source": [
    "from sklearn.feature_selection import SelectFromModel\n",
    "sel = SelectFromModel(clf)\n",
    "sel.fit(X_train_scaled, y_train)"
   ]
  },
  {
   "cell_type": "code",
   "execution_count": null,
   "id": "66d0b8af",
   "metadata": {},
   "outputs": [],
   "source": [
    "X_selected_train, X_selected_test, y_train, y_test = train_test_split(sel.transform(X), y, random_state=1)\n",
    "scaler = StandardScaler().fit(X_selected_train)\n",
    "X_selected_train_scaled = scaler.transform(X_selected_train)\n",
    "X_selected_test_scaled = scaler.transform(X_selected_test)\n"
   ]
  },
  {
   "cell_type": "code",
   "execution_count": null,
   "id": "95f00d42",
   "metadata": {},
   "outputs": [
    {
     "name": "stdout",
     "output_type": "stream",
     "text": [
      "Training Score: 0.8550314465408805\n",
      "Testing Score: 0.8556603773584905\n"
     ]
    }
   ],
   "source": [
    "clf = LogisticRegression().fit(X_train_scaled, y_train)\n",
    "print(f'Training Score: {clf.score(X_train_scaled, y_train)}')\n",
    "print(f'Testing Score: {clf.score(X_test_scaled, y_test)}')"
   ]
  },
  {
   "cell_type": "code",
   "execution_count": null,
   "id": "8dfb56ab",
   "metadata": {},
   "outputs": [
    {
     "name": "stdout",
     "output_type": "stream",
     "text": [
      "Training Score: 0.85\n",
      "Testing Score: 0.85\n"
     ]
    }
   ],
   "source": [
    "clf = LogisticRegression()\n",
    "clf.fit(X_selected_train_scaled, y_train)\n",
    "print(f'Training Score: {clf.score(X_selected_train_scaled, y_train)}')\n",
    "print(f'Testing Score: {clf.score(X_selected_test_scaled, y_test)}')"
   ]
  },
  {
   "cell_type": "markdown",
   "id": "8c58734b",
   "metadata": {},
   "source": [
    "### Confusion Matrix"
   ]
  },
  {
   "cell_type": "code",
   "execution_count": null,
   "id": "084ab7b1",
   "metadata": {},
   "outputs": [],
   "source": [
    "# create the confusion matrix\n",
    "from sklearn.metrics import confusion_matrix\n",
    "# manually predict\n",
    "y_true = y_test\n",
    "y_pred = classifier.predict(X_test)\n",
    "print(confusion_matrix(y_true, y_pred))"
   ]
  },
  {
   "cell_type": "code",
   "execution_count": null,
   "id": "d7776157",
   "metadata": {},
   "outputs": [],
   "source": [
    "TP = 781\n",
    "FP = 148\n",
    "TN = 4\n",
    "FN = 5\n",
    "accuracy = (TP + TN) / (TP + FP + TN + FN)\n",
    "print(accuracy)"
   ]
  },
  {
   "cell_type": "markdown",
   "id": "2ea62d6f",
   "metadata": {},
   "source": [
    "## Deep Learning Model"
   ]
  },
  {
   "cell_type": "code",
   "execution_count": 20,
   "id": "a6e3ce11",
   "metadata": {},
   "outputs": [],
   "source": [
    "import tensorflow as tf\n",
    "X=df.drop('TenYearCHD', axis=1)\n",
    "y=df['TenYearCHD'] != 1\n",
    "# Split training/test datasets\n",
    "X_train, X_test, y_train, y_test = train_test_split(X, y, random_state=42, stratify=y)\n",
    "# Preprocess numerical data for neural network\n",
    "\n",
    "# Create a StandardScaler instances\n",
    "scaler = StandardScaler()\n",
    "\n",
    "# Fit the StandardScaler\n",
    "X_scaler = scaler.fit(X_train)\n",
    "\n",
    "# Scale the data\n",
    "X_train_scaled = X_scaler.transform(X_train)\n",
    "X_test_scaled = X_scaler.transform(X_test)"
   ]
  },
  {
   "cell_type": "code",
   "execution_count": 21,
   "id": "48347f6d",
   "metadata": {},
   "outputs": [
    {
     "name": "stdout",
     "output_type": "stream",
     "text": [
      "Epoch 1/50\n",
      "100/100 [==============================] - 1s 2ms/step - loss: 0.4417 - accuracy: 0.8434\n",
      "Epoch 2/50\n",
      "100/100 [==============================] - 0s 2ms/step - loss: 0.3942 - accuracy: 0.8478\n",
      "Epoch 3/50\n",
      "100/100 [==============================] - 0s 2ms/step - loss: 0.3864 - accuracy: 0.8497\n",
      "Epoch 4/50\n",
      "100/100 [==============================] - 0s 2ms/step - loss: 0.3811 - accuracy: 0.8525\n",
      "Epoch 5/50\n",
      "100/100 [==============================] - 0s 2ms/step - loss: 0.3780 - accuracy: 0.8550\n",
      "Epoch 6/50\n",
      "100/100 [==============================] - 0s 2ms/step - loss: 0.3750 - accuracy: 0.8525\n",
      "Epoch 7/50\n",
      "100/100 [==============================] - 0s 2ms/step - loss: 0.3721 - accuracy: 0.8557\n",
      "Epoch 8/50\n",
      "100/100 [==============================] - 0s 2ms/step - loss: 0.3687 - accuracy: 0.8560\n",
      "Epoch 9/50\n",
      "100/100 [==============================] - 0s 2ms/step - loss: 0.3668 - accuracy: 0.8553\n",
      "Epoch 10/50\n",
      "100/100 [==============================] - 0s 2ms/step - loss: 0.3649 - accuracy: 0.8560\n",
      "Epoch 11/50\n",
      "100/100 [==============================] - 0s 2ms/step - loss: 0.3630 - accuracy: 0.8566\n",
      "Epoch 12/50\n",
      "100/100 [==============================] - 0s 2ms/step - loss: 0.3622 - accuracy: 0.8557\n",
      "Epoch 13/50\n",
      "100/100 [==============================] - 0s 2ms/step - loss: 0.3598 - accuracy: 0.8582\n",
      "Epoch 14/50\n",
      "100/100 [==============================] - 0s 2ms/step - loss: 0.3575 - accuracy: 0.8585\n",
      "Epoch 15/50\n",
      "100/100 [==============================] - 0s 2ms/step - loss: 0.3569 - accuracy: 0.8613\n",
      "Epoch 16/50\n",
      "100/100 [==============================] - 0s 2ms/step - loss: 0.3555 - accuracy: 0.8610\n",
      "Epoch 17/50\n",
      "100/100 [==============================] - 0s 2ms/step - loss: 0.3519 - accuracy: 0.8604\n",
      "Epoch 18/50\n",
      "100/100 [==============================] - 0s 2ms/step - loss: 0.3515 - accuracy: 0.8623\n",
      "Epoch 19/50\n",
      "100/100 [==============================] - 0s 2ms/step - loss: 0.3499 - accuracy: 0.8632\n",
      "Epoch 20/50\n",
      "100/100 [==============================] - 0s 2ms/step - loss: 0.3492 - accuracy: 0.8654\n",
      "Epoch 21/50\n",
      "100/100 [==============================] - 0s 2ms/step - loss: 0.3473 - accuracy: 0.8616\n",
      "Epoch 22/50\n",
      "100/100 [==============================] - 0s 2ms/step - loss: 0.3453 - accuracy: 0.8645\n",
      "Epoch 23/50\n",
      "100/100 [==============================] - 0s 2ms/step - loss: 0.3442 - accuracy: 0.8645\n",
      "Epoch 24/50\n",
      "100/100 [==============================] - 0s 2ms/step - loss: 0.3407 - accuracy: 0.8670\n",
      "Epoch 25/50\n",
      "100/100 [==============================] - 0s 2ms/step - loss: 0.3426 - accuracy: 0.8660\n",
      "Epoch 26/50\n",
      "100/100 [==============================] - 0s 2ms/step - loss: 0.3396 - accuracy: 0.8660\n",
      "Epoch 27/50\n",
      "100/100 [==============================] - 0s 2ms/step - loss: 0.3389 - accuracy: 0.8664\n",
      "Epoch 28/50\n",
      "100/100 [==============================] - 0s 2ms/step - loss: 0.3364 - accuracy: 0.8692\n",
      "Epoch 29/50\n",
      "100/100 [==============================] - 0s 2ms/step - loss: 0.3365 - accuracy: 0.8695\n",
      "Epoch 30/50\n",
      "100/100 [==============================] - 0s 2ms/step - loss: 0.3335 - accuracy: 0.8692\n",
      "Epoch 31/50\n",
      "100/100 [==============================] - 0s 2ms/step - loss: 0.3316 - accuracy: 0.8695\n",
      "Epoch 32/50\n",
      "100/100 [==============================] - 0s 2ms/step - loss: 0.3318 - accuracy: 0.8717\n",
      "Epoch 33/50\n",
      "100/100 [==============================] - 0s 2ms/step - loss: 0.3313 - accuracy: 0.8676\n",
      "Epoch 34/50\n",
      "100/100 [==============================] - 0s 2ms/step - loss: 0.3279 - accuracy: 0.8723\n",
      "Epoch 35/50\n",
      "100/100 [==============================] - 0s 2ms/step - loss: 0.3278 - accuracy: 0.8714\n",
      "Epoch 36/50\n",
      "100/100 [==============================] - 0s 2ms/step - loss: 0.3261 - accuracy: 0.8736\n",
      "Epoch 37/50\n",
      "100/100 [==============================] - 0s 2ms/step - loss: 0.3229 - accuracy: 0.8742\n",
      "Epoch 38/50\n",
      "100/100 [==============================] - 0s 2ms/step - loss: 0.3231 - accuracy: 0.8770\n",
      "Epoch 39/50\n",
      "100/100 [==============================] - 0s 2ms/step - loss: 0.3211 - accuracy: 0.8774\n",
      "Epoch 40/50\n",
      "100/100 [==============================] - 0s 2ms/step - loss: 0.3209 - accuracy: 0.8758\n",
      "Epoch 41/50\n",
      "100/100 [==============================] - 0s 2ms/step - loss: 0.3187 - accuracy: 0.8733\n",
      "Epoch 42/50\n",
      "100/100 [==============================] - 0s 2ms/step - loss: 0.3165 - accuracy: 0.8821\n",
      "Epoch 43/50\n",
      "100/100 [==============================] - 0s 2ms/step - loss: 0.3152 - accuracy: 0.8774\n",
      "Epoch 44/50\n",
      "100/100 [==============================] - 0s 2ms/step - loss: 0.3126 - accuracy: 0.8780\n",
      "Epoch 45/50\n",
      "100/100 [==============================] - 0s 2ms/step - loss: 0.3137 - accuracy: 0.8764\n",
      "Epoch 46/50\n",
      "100/100 [==============================] - 0s 2ms/step - loss: 0.3109 - accuracy: 0.8789\n",
      "Epoch 47/50\n",
      "100/100 [==============================] - 0s 2ms/step - loss: 0.3111 - accuracy: 0.8761\n",
      "Epoch 48/50\n",
      "100/100 [==============================] - 0s 2ms/step - loss: 0.3114 - accuracy: 0.8764\n",
      "Epoch 49/50\n",
      "100/100 [==============================] - 0s 2ms/step - loss: 0.3043 - accuracy: 0.8786\n",
      "Epoch 50/50\n",
      "100/100 [==============================] - 0s 2ms/step - loss: 0.3055 - accuracy: 0.8814\n",
      "34/34 - 0s - loss: 0.4273 - accuracy: 0.8255 - 215ms/epoch - 6ms/step\n",
      "Loss: 0.427325963973999, Accuracy: 0.8254716992378235\n"
     ]
    }
   ],
   "source": [
    "# Define the deep learning model \n",
    "nn_model = tf.keras.models.Sequential()\n",
    "nn_model.add(tf.keras.layers.Dense(units=50, activation=\"relu\", input_dim=14))\n",
    "nn_model.add(tf.keras.layers.Dense(units=30, activation=\"relu\"))\n",
    "nn_model.add(tf.keras.layers.Dense(units=1, activation=\"sigmoid\"))\n",
    "\n",
    "# Compile the Sequential model together and customize metrics\n",
    "nn_model.compile(loss=\"binary_crossentropy\", optimizer=\"adam\", metrics=[\"accuracy\"])\n",
    "\n",
    "# Train the model\n",
    "fit_model = nn_model.fit(X_train_scaled, y_train, epochs=50)\n",
    "\n",
    "# Evaluate the model using the test data\n",
    "model_loss, model_accuracy = nn_model.evaluate(X_test_scaled,y_test,verbose=2)\n",
    "print(f\"Loss: {model_loss}, Accuracy: {model_accuracy}\")"
   ]
  },
  {
   "cell_type": "markdown",
   "id": "a255bc04",
   "metadata": {},
   "source": [
    "## KNN Model"
   ]
  },
  {
   "cell_type": "code",
   "execution_count": null,
   "id": "63bf0902",
   "metadata": {},
   "outputs": [],
   "source": [
    "# split the data into test and train to create KNN model\n",
    "X_train, X_test, y_train, y_test = train_test_split(X, y, random_state=1)\n",
    "\n",
    "# Create a StandardScater model and fit it to the training data\n",
    "\n",
    "X_scaler = StandardScaler()\n",
    "X_scaler.fit(X_train)"
   ]
  },
  {
   "cell_type": "code",
   "execution_count": null,
   "id": "559c2fd8",
   "metadata": {},
   "outputs": [],
   "source": [
    "# Transform the training and testing data by using the X_scaler and y_scaler models\n",
    "\n",
    "X_train_scaled = X_scaler.transform(X_train)\n",
    "X_test_scaled = X_scaler.transform(X_test)"
   ]
  },
  {
   "cell_type": "code",
   "execution_count": 23,
   "id": "8a6ddc52",
   "metadata": {},
   "outputs": [
    {
     "name": "stdout",
     "output_type": "stream",
     "text": [
      "k: 1, Train/Test Score: 1.000/0.782\n",
      "k: 2, Train/Test Score: 0.903/0.713\n",
      "k: 3, Train/Test Score: 0.892/0.822\n",
      "k: 4, Train/Test Score: 0.881/0.808\n",
      "k: 5, Train/Test Score: 0.867/0.838\n",
      "k: 6, Train/Test Score: 0.866/0.829\n",
      "k: 7, Train/Test Score: 0.862/0.842\n",
      "k: 8, Train/Test Score: 0.861/0.833\n",
      "k: 9, Train/Test Score: 0.862/0.838\n",
      "k: 10, Train/Test Score: 0.860/0.838\n"
     ]
    },
    {
     "data": {
      "image/png": "[encoded data removed]",
      "text/plain": [
       "<Figure size 432x288 with 1 Axes>"
      ]
     },
     "metadata": {
      "needs_background": "light"
     },
     "output_type": "display_data"
    },
    {
     "data": {
      "text/plain": [
       "<Figure size 432x288 with 0 Axes>"
      ]
     },
     "metadata": {},
     "output_type": "display_data"
    }
   ],
   "source": [
    "# Loop through different k values to find which has the highest accuracy.\n",
    "# Note: We use only odd numbers because we don't want any ties.\n",
    "train_scores = []\n",
    "test_scores = []\n",
    "for k in range(1, 11):\n",
    "    knn = KNeighborsClassifier(n_neighbors=k)\n",
    "    knn.fit(X_train_scaled, y_train)\n",
    "    train_score = knn.score(X_train_scaled, y_train)\n",
    "    test_score = knn.score(X_test_scaled, y_test)\n",
    "    train_scores.append(train_score)\n",
    "    test_scores.append(test_score)\n",
    "    print(f\"k: {k}, Train/Test Score: {train_score:.3f}/{test_score:.3f}\")\n",
    "    \n",
    "    \n",
    "plt.plot(range(1, 11), train_scores, marker='o')\n",
    "plt.plot(range(1, 11), test_scores, marker=\"x\")\n",
    "plt.title(\"K value Accuracy score\")\n",
    "plt.xlabel(\"k neighbors\")\n",
    "plt.ylabel(\"Testing accuracy score\")\n",
    "plt.show()\n",
    "plt.savefig(\"Template/Resources/assets/images/K Neighbors.png\")"
   ]
  },
  {
   "cell_type": "code",
   "execution_count": 24,
   "id": "76a12c92",
   "metadata": {},
   "outputs": [
    {
     "name": "stdout",
     "output_type": "stream",
     "text": [
      "k=7 Test Acc: 0.842\n"
     ]
    }
   ],
   "source": [
    "# Note that k: 9 seems to be the best choice for this dataset\n",
    "knn = KNeighborsClassifier(n_neighbors=7)\n",
    "knn.fit(X_train_scaled, y_train)\n",
    "print('k=7 Test Acc: %.3f' % knn.score(X_test_scaled, y_test))"
   ]
  },
  {
   "cell_type": "code",
   "execution_count": 25,
   "id": "83afba2a",
   "metadata": {},
   "outputs": [],
   "source": [
    "from sklearn.metrics import roc_curve"
   ]
  },
  {
   "cell_type": "code",
   "execution_count": 26,
   "id": "d15b773c",
   "metadata": {},
   "outputs": [],
   "source": [
    "y_pred_proba = knn.predict_proba(X_test_scaled)[:,1]\n",
    "fpr, tpr, thresholds = roc_curve(y_test, y_pred_proba)"
   ]
  },
  {
   "cell_type": "code",
   "execution_count": 28,
   "id": "d532fe31",
   "metadata": {},
   "outputs": [
    {
     "data": {
      "image/png": "[encoded data removed]",
      "text/plain": [
       "<Figure size 432x288 with 1 Axes>"
      ]
     },
     "metadata": {
      "needs_background": "light"
     },
     "output_type": "display_data"
    },
    {
     "data": {
      "text/plain": [
       "<Figure size 432x288 with 0 Axes>"
      ]
     },
     "metadata": {},
     "output_type": "display_data"
    }
   ],
   "source": [
    "plt.figure()\n",
    "plt.plot(fpr, tpr, color='darkorange')\n",
    "plt.plot([0, 1], [0, 1], color='navy', linestyle='--')\n",
    "plt.xlim([0.0, 1.0])\n",
    "plt.ylim([0.0, 1.05])\n",
    "plt.xlabel('False Positive Rate')\n",
    "plt.ylabel('True Positive Rate')\n",
    "plt.title('Receiver operating characteristic example')\n",
    "plt.show()\n",
    "plt.savefig(\"Template/Resources/assets/images/ROC_graph.png\")"
   ]
  },
  {
   "cell_type": "code",
   "execution_count": 29,
   "id": "afc94bfd",
   "metadata": {},
   "outputs": [
    {
     "data": {
      "text/plain": [
       "0.6227485335673176"
      ]
     },
     "execution_count": 29,
     "metadata": {},
     "output_type": "execute_result"
    }
   ],
   "source": [
    "from sklearn.metrics import auc\n",
    "roc_auc = auc(fpr, tpr)\n",
    "roc_auc"
   ]
  },
  {
   "cell_type": "markdown",
   "id": "217429ff",
   "metadata": {},
   "source": [
    "## SVM Model"
   ]
  },
  {
   "cell_type": "code",
   "execution_count": 30,
   "id": "6476a959",
   "metadata": {},
   "outputs": [
    {
     "data": {
      "text/plain": [
       "SVC(kernel='linear')"
      ]
     },
     "execution_count": 30,
     "metadata": {},
     "output_type": "execute_result"
    }
   ],
   "source": [
    "# Support vector machine linear classifier\n",
    "from sklearn.svm import SVC \n",
    "model = SVC(kernel='linear')\n",
    "model.fit(X_train, y_train)"
   ]
  },
  {
   "cell_type": "code",
   "execution_count": 31,
   "id": "374b6850",
   "metadata": {},
   "outputs": [
    {
     "name": "stdout",
     "output_type": "stream",
     "text": [
      "Test Acc: 0.848\n"
     ]
    }
   ],
   "source": [
    "# Model Accuracy\n",
    "print('Test Acc: %.3f' % model.score(X_test, y_test))"
   ]
  },
  {
   "cell_type": "code",
   "execution_count": null,
   "id": "af571d6a",
   "metadata": {},
   "outputs": [],
   "source": []
  }
 ],
 "metadata": {
  "kernelspec": {
   "display_name": "Python 3",
   "language": "python",
   "name": "python3"
  },
  "language_info": {
   "codemirror_mode": {
    "name": "ipython",
    "version": 3
   },
   "file_extension": ".py",
   "mimetype": "text/x-python",
   "name": "python",
   "nbconvert_exporter": "python",
   "pygments_lexer": "ipython3",
   "version": "3.8.8"
  }
 },
 "nbformat": 4,
 "nbformat_minor": 5
}
