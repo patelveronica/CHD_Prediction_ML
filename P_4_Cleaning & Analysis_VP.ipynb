{
 "cells": [
  {
   "cell_type": "code",
   "execution_count": 16,
   "id": "2d033bbe",
   "metadata": {},
   "outputs": [],
   "source": [
    "# Dependencies\n",
    "import numpy as np\n",
    "import pandas as pd\n",
    "import matplotlib.pyplot as plt\n",
    "from scipy.stats import linregress\n",
    "import seaborn as sns\n",
    "%matplotlib inline\n"
   ]
  },
  {
   "cell_type": "code",
   "execution_count": 17,
   "id": "80b66b61",
   "metadata": {},
   "outputs": [
    {
     "name": "stdout",
     "output_type": "stream",
     "text": [
      "No. of Records : 4240 \n",
      "No. of Features :  17\n"
     ]
    }
   ],
   "source": [
    "# import the farmingham data\n",
    "df = pd.read_csv(\"framingham.csv\")\n",
    "#Shape of dataset\n",
    "print ('No. of Records :', df.shape[0], '\\nNo. of Features : ', df.shape[1])"
   ]
  },
  {
   "cell_type": "code",
   "execution_count": 18,
   "id": "90d970ed",
   "metadata": {},
   "outputs": [
    {
     "data": {
      "text/plain": [
       "ID                   int64\n",
       "male                 int64\n",
       "age                  int64\n",
       "education          float64\n",
       "currentSmoker        int64\n",
       "cigsPerDay         float64\n",
       "BPMeds             float64\n",
       "prevalentStroke      int64\n",
       "prevalentHyp         int64\n",
       "diabetes             int64\n",
       "totChol            float64\n",
       "sysBP              float64\n",
       "diaBP              float64\n",
       "BMI                float64\n",
       "heartRate          float64\n",
       "glucose            float64\n",
       "TenYearCHD           int64\n",
       "dtype: object"
      ]
     },
     "execution_count": 18,
     "metadata": {},
     "output_type": "execute_result"
    }
   ],
   "source": [
    "# identify the data type\n",
    "df.dtypes"
   ]
  },
  {
   "cell_type": "code",
   "execution_count": 19,
   "id": "e2a08783",
   "metadata": {},
   "outputs": [
    {
     "name": "stdout",
     "output_type": "stream",
     "text": [
      "ID                   0\n",
      "male                 0\n",
      "age                  0\n",
      "education          105\n",
      "currentSmoker        0\n",
      "cigsPerDay          29\n",
      "BPMeds              53\n",
      "prevalentStroke      0\n",
      "prevalentHyp         0\n",
      "diabetes             0\n",
      "totChol             50\n",
      "sysBP                0\n",
      "diaBP                0\n",
      "BMI                 19\n",
      "heartRate            1\n",
      "glucose            388\n",
      "TenYearCHD           0\n",
      "dtype: int64\n"
     ]
    }
   ],
   "source": [
    "# identify any null values\n",
    "df.count()\n",
    "print(df.isna().sum())"
   ]
  },
  {
   "cell_type": "markdown",
   "id": "32f2598f",
   "metadata": {},
   "source": [
    "## About 11% are null values so we have not decided yet to drop."
   ]
  },
  {
   "cell_type": "code",
   "execution_count": 20,
   "id": "35d6740d",
   "metadata": {},
   "outputs": [
    {
     "data": {
      "text/html": [
       "<div>\n",
       "<style scoped>\n",
       "    .dataframe tbody tr th:only-of-type {\n",
       "        vertical-align: middle;\n",
       "    }\n",
       "\n",
       "    .dataframe tbody tr th {\n",
       "        vertical-align: top;\n",
       "    }\n",
       "\n",
       "    .dataframe thead th {\n",
       "        text-align: right;\n",
       "    }\n",
       "</style>\n",
       "<table border=\"1\" class=\"dataframe\">\n",
       "  <thead>\n",
       "    <tr style=\"text-align: right;\">\n",
       "      <th></th>\n",
       "      <th>ID</th>\n",
       "      <th>male</th>\n",
       "      <th>age</th>\n",
       "      <th>education</th>\n",
       "      <th>currentSmoker</th>\n",
       "      <th>cigsPerDay</th>\n",
       "      <th>BPMeds</th>\n",
       "      <th>prevalentStroke</th>\n",
       "      <th>prevalentHyp</th>\n",
       "      <th>diabetes</th>\n",
       "      <th>totChol</th>\n",
       "      <th>sysBP</th>\n",
       "      <th>diaBP</th>\n",
       "      <th>BMI</th>\n",
       "      <th>heartRate</th>\n",
       "      <th>glucose</th>\n",
       "      <th>TenYearCHD</th>\n",
       "    </tr>\n",
       "  </thead>\n",
       "  <tbody>\n",
       "  </tbody>\n",
       "</table>\n",
       "</div>"
      ],
      "text/plain": [
       "Empty DataFrame\n",
       "Columns: [ID, male, age, education, currentSmoker, cigsPerDay, BPMeds, prevalentStroke, prevalentHyp, diabetes, totChol, sysBP, diaBP, BMI, heartRate, glucose, TenYearCHD]\n",
       "Index: []"
      ]
     },
     "execution_count": 20,
     "metadata": {},
     "output_type": "execute_result"
    }
   ],
   "source": [
    "# check for any duplicates\n",
    "duplicate_df = df[df.duplicated()]\n",
    "duplicate_df"
   ]
  },
  {
   "cell_type": "code",
   "execution_count": 21,
   "id": "b160caac",
   "metadata": {},
   "outputs": [],
   "source": [
    "df = df.drop(['ID'], axis=1)"
   ]
  },
  {
   "cell_type": "code",
   "execution_count": 22,
   "id": "130156f2",
   "metadata": {
    "scrolled": true
   },
   "outputs": [
    {
     "data": {
      "text/html": [
       "<div>\n",
       "<style scoped>\n",
       "    .dataframe tbody tr th:only-of-type {\n",
       "        vertical-align: middle;\n",
       "    }\n",
       "\n",
       "    .dataframe tbody tr th {\n",
       "        vertical-align: top;\n",
       "    }\n",
       "\n",
       "    .dataframe thead th {\n",
       "        text-align: right;\n",
       "    }\n",
       "</style>\n",
       "<table border=\"1\" class=\"dataframe\">\n",
       "  <thead>\n",
       "    <tr style=\"text-align: right;\">\n",
       "      <th></th>\n",
       "      <th>male</th>\n",
       "      <th>age</th>\n",
       "      <th>education</th>\n",
       "      <th>currentSmoker</th>\n",
       "      <th>cigsPerDay</th>\n",
       "      <th>BPMeds</th>\n",
       "      <th>prevalentStroke</th>\n",
       "      <th>prevalentHyp</th>\n",
       "      <th>diabetes</th>\n",
       "      <th>totChol</th>\n",
       "      <th>sysBP</th>\n",
       "      <th>diaBP</th>\n",
       "      <th>BMI</th>\n",
       "      <th>heartRate</th>\n",
       "      <th>glucose</th>\n",
       "      <th>TenYearCHD</th>\n",
       "    </tr>\n",
       "  </thead>\n",
       "  <tbody>\n",
       "    <tr>\n",
       "      <th>0</th>\n",
       "      <td>1</td>\n",
       "      <td>39</td>\n",
       "      <td>4.0</td>\n",
       "      <td>0</td>\n",
       "      <td>0.0</td>\n",
       "      <td>0.0</td>\n",
       "      <td>0</td>\n",
       "      <td>0</td>\n",
       "      <td>0</td>\n",
       "      <td>195.0</td>\n",
       "      <td>106.0</td>\n",
       "      <td>70.0</td>\n",
       "      <td>26.97</td>\n",
       "      <td>80.0</td>\n",
       "      <td>77.0</td>\n",
       "      <td>0</td>\n",
       "    </tr>\n",
       "    <tr>\n",
       "      <th>1</th>\n",
       "      <td>0</td>\n",
       "      <td>46</td>\n",
       "      <td>2.0</td>\n",
       "      <td>0</td>\n",
       "      <td>0.0</td>\n",
       "      <td>0.0</td>\n",
       "      <td>0</td>\n",
       "      <td>0</td>\n",
       "      <td>0</td>\n",
       "      <td>250.0</td>\n",
       "      <td>121.0</td>\n",
       "      <td>81.0</td>\n",
       "      <td>28.73</td>\n",
       "      <td>95.0</td>\n",
       "      <td>76.0</td>\n",
       "      <td>0</td>\n",
       "    </tr>\n",
       "    <tr>\n",
       "      <th>2</th>\n",
       "      <td>1</td>\n",
       "      <td>48</td>\n",
       "      <td>1.0</td>\n",
       "      <td>1</td>\n",
       "      <td>20.0</td>\n",
       "      <td>0.0</td>\n",
       "      <td>0</td>\n",
       "      <td>0</td>\n",
       "      <td>0</td>\n",
       "      <td>245.0</td>\n",
       "      <td>127.5</td>\n",
       "      <td>80.0</td>\n",
       "      <td>25.34</td>\n",
       "      <td>75.0</td>\n",
       "      <td>70.0</td>\n",
       "      <td>0</td>\n",
       "    </tr>\n",
       "    <tr>\n",
       "      <th>3</th>\n",
       "      <td>0</td>\n",
       "      <td>61</td>\n",
       "      <td>3.0</td>\n",
       "      <td>1</td>\n",
       "      <td>30.0</td>\n",
       "      <td>0.0</td>\n",
       "      <td>0</td>\n",
       "      <td>1</td>\n",
       "      <td>0</td>\n",
       "      <td>225.0</td>\n",
       "      <td>150.0</td>\n",
       "      <td>95.0</td>\n",
       "      <td>28.58</td>\n",
       "      <td>65.0</td>\n",
       "      <td>103.0</td>\n",
       "      <td>1</td>\n",
       "    </tr>\n",
       "    <tr>\n",
       "      <th>4</th>\n",
       "      <td>0</td>\n",
       "      <td>46</td>\n",
       "      <td>3.0</td>\n",
       "      <td>1</td>\n",
       "      <td>23.0</td>\n",
       "      <td>0.0</td>\n",
       "      <td>0</td>\n",
       "      <td>0</td>\n",
       "      <td>0</td>\n",
       "      <td>285.0</td>\n",
       "      <td>130.0</td>\n",
       "      <td>84.0</td>\n",
       "      <td>23.10</td>\n",
       "      <td>85.0</td>\n",
       "      <td>85.0</td>\n",
       "      <td>0</td>\n",
       "    </tr>\n",
       "    <tr>\n",
       "      <th>...</th>\n",
       "      <td>...</td>\n",
       "      <td>...</td>\n",
       "      <td>...</td>\n",
       "      <td>...</td>\n",
       "      <td>...</td>\n",
       "      <td>...</td>\n",
       "      <td>...</td>\n",
       "      <td>...</td>\n",
       "      <td>...</td>\n",
       "      <td>...</td>\n",
       "      <td>...</td>\n",
       "      <td>...</td>\n",
       "      <td>...</td>\n",
       "      <td>...</td>\n",
       "      <td>...</td>\n",
       "      <td>...</td>\n",
       "    </tr>\n",
       "    <tr>\n",
       "      <th>4234</th>\n",
       "      <td>1</td>\n",
       "      <td>51</td>\n",
       "      <td>3.0</td>\n",
       "      <td>1</td>\n",
       "      <td>43.0</td>\n",
       "      <td>0.0</td>\n",
       "      <td>0</td>\n",
       "      <td>0</td>\n",
       "      <td>0</td>\n",
       "      <td>207.0</td>\n",
       "      <td>126.5</td>\n",
       "      <td>80.0</td>\n",
       "      <td>19.71</td>\n",
       "      <td>65.0</td>\n",
       "      <td>68.0</td>\n",
       "      <td>0</td>\n",
       "    </tr>\n",
       "    <tr>\n",
       "      <th>4235</th>\n",
       "      <td>0</td>\n",
       "      <td>48</td>\n",
       "      <td>2.0</td>\n",
       "      <td>1</td>\n",
       "      <td>20.0</td>\n",
       "      <td>NaN</td>\n",
       "      <td>0</td>\n",
       "      <td>0</td>\n",
       "      <td>0</td>\n",
       "      <td>248.0</td>\n",
       "      <td>131.0</td>\n",
       "      <td>72.0</td>\n",
       "      <td>22.00</td>\n",
       "      <td>84.0</td>\n",
       "      <td>86.0</td>\n",
       "      <td>0</td>\n",
       "    </tr>\n",
       "    <tr>\n",
       "      <th>4236</th>\n",
       "      <td>0</td>\n",
       "      <td>44</td>\n",
       "      <td>1.0</td>\n",
       "      <td>1</td>\n",
       "      <td>15.0</td>\n",
       "      <td>0.0</td>\n",
       "      <td>0</td>\n",
       "      <td>0</td>\n",
       "      <td>0</td>\n",
       "      <td>210.0</td>\n",
       "      <td>126.5</td>\n",
       "      <td>87.0</td>\n",
       "      <td>19.16</td>\n",
       "      <td>86.0</td>\n",
       "      <td>NaN</td>\n",
       "      <td>0</td>\n",
       "    </tr>\n",
       "    <tr>\n",
       "      <th>4237</th>\n",
       "      <td>0</td>\n",
       "      <td>52</td>\n",
       "      <td>2.0</td>\n",
       "      <td>0</td>\n",
       "      <td>0.0</td>\n",
       "      <td>0.0</td>\n",
       "      <td>0</td>\n",
       "      <td>0</td>\n",
       "      <td>0</td>\n",
       "      <td>269.0</td>\n",
       "      <td>133.5</td>\n",
       "      <td>83.0</td>\n",
       "      <td>21.47</td>\n",
       "      <td>80.0</td>\n",
       "      <td>107.0</td>\n",
       "      <td>0</td>\n",
       "    </tr>\n",
       "    <tr>\n",
       "      <th>4238</th>\n",
       "      <td>1</td>\n",
       "      <td>40</td>\n",
       "      <td>3.0</td>\n",
       "      <td>0</td>\n",
       "      <td>0.0</td>\n",
       "      <td>0.0</td>\n",
       "      <td>0</td>\n",
       "      <td>1</td>\n",
       "      <td>0</td>\n",
       "      <td>185.0</td>\n",
       "      <td>141.0</td>\n",
       "      <td>98.0</td>\n",
       "      <td>25.60</td>\n",
       "      <td>67.0</td>\n",
       "      <td>72.0</td>\n",
       "      <td>0</td>\n",
       "    </tr>\n",
       "  </tbody>\n",
       "</table>\n",
       "<p>4239 rows × 16 columns</p>\n",
       "</div>"
      ],
      "text/plain": [
       "      male  age  education  currentSmoker  cigsPerDay  BPMeds  \\\n",
       "0        1   39        4.0              0         0.0     0.0   \n",
       "1        0   46        2.0              0         0.0     0.0   \n",
       "2        1   48        1.0              1        20.0     0.0   \n",
       "3        0   61        3.0              1        30.0     0.0   \n",
       "4        0   46        3.0              1        23.0     0.0   \n",
       "...    ...  ...        ...            ...         ...     ...   \n",
       "4234     1   51        3.0              1        43.0     0.0   \n",
       "4235     0   48        2.0              1        20.0     NaN   \n",
       "4236     0   44        1.0              1        15.0     0.0   \n",
       "4237     0   52        2.0              0         0.0     0.0   \n",
       "4238     1   40        3.0              0         0.0     0.0   \n",
       "\n",
       "      prevalentStroke  prevalentHyp  diabetes  totChol  sysBP  diaBP    BMI  \\\n",
       "0                   0             0         0    195.0  106.0   70.0  26.97   \n",
       "1                   0             0         0    250.0  121.0   81.0  28.73   \n",
       "2                   0             0         0    245.0  127.5   80.0  25.34   \n",
       "3                   0             1         0    225.0  150.0   95.0  28.58   \n",
       "4                   0             0         0    285.0  130.0   84.0  23.10   \n",
       "...               ...           ...       ...      ...    ...    ...    ...   \n",
       "4234                0             0         0    207.0  126.5   80.0  19.71   \n",
       "4235                0             0         0    248.0  131.0   72.0  22.00   \n",
       "4236                0             0         0    210.0  126.5   87.0  19.16   \n",
       "4237                0             0         0    269.0  133.5   83.0  21.47   \n",
       "4238                0             1         0    185.0  141.0   98.0  25.60   \n",
       "\n",
       "      heartRate  glucose  TenYearCHD  \n",
       "0          80.0     77.0           0  \n",
       "1          95.0     76.0           0  \n",
       "2          75.0     70.0           0  \n",
       "3          65.0    103.0           1  \n",
       "4          85.0     85.0           0  \n",
       "...         ...      ...         ...  \n",
       "4234       65.0     68.0           0  \n",
       "4235       84.0     86.0           0  \n",
       "4236       86.0      NaN           0  \n",
       "4237       80.0    107.0           0  \n",
       "4238       67.0     72.0           0  \n",
       "\n",
       "[4239 rows x 16 columns]"
      ]
     },
     "execution_count": 22,
     "metadata": {},
     "output_type": "execute_result"
    }
   ],
   "source": [
    "df.head(-1)"
   ]
  },
  {
   "cell_type": "markdown",
   "id": "02cd274e",
   "metadata": {},
   "source": [
    "#### 1. Find correlation between all the health conditions from the data sets.\n",
    "#### 2. Identify the outliers from the correlations\n",
    "#### 3. Graph Gender VS 10 year CHD\n",
    "#### 4. Graph Education impact on 10 year CHD\n",
    "#### 5. Graph smokers per day VS 10 year CHD\n",
    "#### 6. Graph each outliers VS 10 year CHD\n",
    "#### 7. Graph each outliers that are out of normal range and and plot it VS 10 year CHD\n",
    "#### 8. Calculate each outliers that are out of normal range and show the percentage of population developed CHD\n",
    "#### 9. Analyze step 8 to see the patterned of the percentage of population developed CHD in 10 years.\n",
    "#### 10. Conclusion - If you give me your actual number for each outliers, i can maybe predict percentage of you developing CHD in 10 years."
   ]
  },
  {
   "cell_type": "code",
   "execution_count": 23,
   "id": "42c03206",
   "metadata": {
    "scrolled": false
   },
   "outputs": [
    {
     "data": {
      "image/png": "[encoded data removed]",
      "text/plain": [
       "<Figure size 1008x1008 with 2 Axes>"
      ]
     },
     "metadata": {
      "needs_background": "light"
     },
     "output_type": "display_data"
    }
   ],
   "source": [
    "## Checking the correlation between output and input fields through a heatmap by the help of correlation function\n",
    "\n",
    "correlation = df.corr()\n",
    "plt.figure(figsize=(14,14))\n",
    "g = sns.heatmap(correlation, vmax=1, square=True,cmap='Blues',annot= True,xticklabels=True,yticklabels=True, fmt='.1g')\n",
    "g.set_yticklabels(g.get_yticklabels(), rotation =0)\n",
    "g.set_xticklabels(g.get_yticklabels(), rotation =90)\n",
    "plt.title('Correlation between different variables of the Dataset')\n",
    "\n",
    "plt.savefig(\"static/Correlation between different fearures.png\")"
   ]
  },
  {
   "cell_type": "markdown",
   "id": "1fbd6a87",
   "metadata": {},
   "source": [
    "#### Obervation: Currentsmoker & Cigsperday has strong correlations. PrevalentHyp vs SysBP/diaBP,  Glucos vs Diabetes, and sysBP & diaBP also have Positive correlations.\n",
    "\n",
    "#### We are dropping the column Education becasue it does not really have any correlation with risk of developing heart disease. #### Obervation: Currentsmoker & Cigsperday has strong correlations. PrevalentHyp vs SysBP/diaBP, Glucos vs Diabetes, and sysBP & diaBP also have Positive correlations\n",
    "\n",
    "### there is 12%of null values so we decided to fill null value with Mean"
   ]
  },
  {
   "cell_type": "code",
   "execution_count": 24,
   "id": "8bf7d63c",
   "metadata": {},
   "outputs": [],
   "source": [
    "#User defined function for missing value imputation\n",
    "def impute_median(data):\n",
    "    return data.fillna(data.median())\n",
    "#median imputation - fill the null values with mean\n",
    "\n",
    "df.glucose = df['glucose'].transform(impute_median)\n",
    "df.education = df['education'].transform(impute_median)\n",
    "df.heartRate = df['heartRate'].transform(impute_median)\n",
    "df.totChol = df['totChol'].transform(impute_median)\n",
    "df.BPMeds = df['BPMeds'].transform(impute_median)\n",
    "\n",
    "## group by classes that are in relation with other classes\n",
    "\n",
    "by_currentSmoker = df.groupby(['currentSmoker'])\n",
    "df.cigsPerDay = by_currentSmoker['cigsPerDay'].transform(impute_median)\n",
    "\n",
    "by_age = df.groupby(['male','age'])\n",
    "df.BMI = by_age['BMI'].transform(impute_median)"
   ]
  },
  {
   "cell_type": "code",
   "execution_count": 25,
   "id": "e8c450fd",
   "metadata": {},
   "outputs": [
    {
     "name": "stdout",
     "output_type": "stream",
     "text": [
      "No. of Records : 4240 \n",
      "No. of Features :  16\n"
     ]
    }
   ],
   "source": [
    "#Shape of dataset\n",
    "print ('No. of Records :', df.shape[0], '\\nNo. of Features : ', df.shape[1])"
   ]
  },
  {
   "cell_type": "code",
   "execution_count": 26,
   "id": "35a27858",
   "metadata": {},
   "outputs": [],
   "source": [
    "# Export the clean data to CSV\n",
    "df.to_csv('framingham_cleandata.csv')"
   ]
  },
  {
   "cell_type": "code",
   "execution_count": 27,
   "id": "b06e135b",
   "metadata": {},
   "outputs": [
    {
     "data": {
      "text/html": [
       "<div>\n",
       "<style scoped>\n",
       "    .dataframe tbody tr th:only-of-type {\n",
       "        vertical-align: middle;\n",
       "    }\n",
       "\n",
       "    .dataframe tbody tr th {\n",
       "        vertical-align: top;\n",
       "    }\n",
       "\n",
       "    .dataframe thead th {\n",
       "        text-align: right;\n",
       "    }\n",
       "</style>\n",
       "<table border=\"1\" class=\"dataframe\">\n",
       "  <thead>\n",
       "    <tr style=\"text-align: right;\">\n",
       "      <th></th>\n",
       "      <th>male</th>\n",
       "      <th>age</th>\n",
       "      <th>education</th>\n",
       "      <th>currentSmoker</th>\n",
       "      <th>cigsPerDay</th>\n",
       "      <th>BPMeds</th>\n",
       "      <th>prevalentStroke</th>\n",
       "      <th>prevalentHyp</th>\n",
       "      <th>diabetes</th>\n",
       "      <th>totChol</th>\n",
       "      <th>sysBP</th>\n",
       "      <th>diaBP</th>\n",
       "      <th>BMI</th>\n",
       "      <th>heartRate</th>\n",
       "      <th>glucose</th>\n",
       "      <th>TenYearCHD</th>\n",
       "    </tr>\n",
       "  </thead>\n",
       "  <tbody>\n",
       "    <tr>\n",
       "      <th>count</th>\n",
       "      <td>4240.000000</td>\n",
       "      <td>4240.000000</td>\n",
       "      <td>4240.000000</td>\n",
       "      <td>4240.000000</td>\n",
       "      <td>4240.000000</td>\n",
       "      <td>4240.000000</td>\n",
       "      <td>4240.000000</td>\n",
       "      <td>4240.000000</td>\n",
       "      <td>4240.000000</td>\n",
       "      <td>4240.000000</td>\n",
       "      <td>4240.000000</td>\n",
       "      <td>4240.000000</td>\n",
       "      <td>4240.000000</td>\n",
       "      <td>4240.000000</td>\n",
       "      <td>4240.000000</td>\n",
       "      <td>4240.000000</td>\n",
       "    </tr>\n",
       "    <tr>\n",
       "      <th>mean</th>\n",
       "      <td>0.429245</td>\n",
       "      <td>49.580189</td>\n",
       "      <td>1.979953</td>\n",
       "      <td>0.494104</td>\n",
       "      <td>9.081132</td>\n",
       "      <td>0.029245</td>\n",
       "      <td>0.005896</td>\n",
       "      <td>0.310613</td>\n",
       "      <td>0.025708</td>\n",
       "      <td>236.667689</td>\n",
       "      <td>132.354599</td>\n",
       "      <td>82.897759</td>\n",
       "      <td>25.798756</td>\n",
       "      <td>75.878774</td>\n",
       "      <td>81.600943</td>\n",
       "      <td>0.151887</td>\n",
       "    </tr>\n",
       "    <tr>\n",
       "      <th>std</th>\n",
       "      <td>0.495027</td>\n",
       "      <td>8.572942</td>\n",
       "      <td>1.007087</td>\n",
       "      <td>0.500024</td>\n",
       "      <td>11.916119</td>\n",
       "      <td>0.168513</td>\n",
       "      <td>0.076569</td>\n",
       "      <td>0.462799</td>\n",
       "      <td>0.158280</td>\n",
       "      <td>44.328480</td>\n",
       "      <td>22.033300</td>\n",
       "      <td>11.910394</td>\n",
       "      <td>4.072774</td>\n",
       "      <td>12.023937</td>\n",
       "      <td>22.860340</td>\n",
       "      <td>0.358953</td>\n",
       "    </tr>\n",
       "    <tr>\n",
       "      <th>min</th>\n",
       "      <td>0.000000</td>\n",
       "      <td>32.000000</td>\n",
       "      <td>1.000000</td>\n",
       "      <td>0.000000</td>\n",
       "      <td>0.000000</td>\n",
       "      <td>0.000000</td>\n",
       "      <td>0.000000</td>\n",
       "      <td>0.000000</td>\n",
       "      <td>0.000000</td>\n",
       "      <td>107.000000</td>\n",
       "      <td>83.500000</td>\n",
       "      <td>48.000000</td>\n",
       "      <td>15.540000</td>\n",
       "      <td>44.000000</td>\n",
       "      <td>40.000000</td>\n",
       "      <td>0.000000</td>\n",
       "    </tr>\n",
       "    <tr>\n",
       "      <th>25%</th>\n",
       "      <td>0.000000</td>\n",
       "      <td>42.000000</td>\n",
       "      <td>1.000000</td>\n",
       "      <td>0.000000</td>\n",
       "      <td>0.000000</td>\n",
       "      <td>0.000000</td>\n",
       "      <td>0.000000</td>\n",
       "      <td>0.000000</td>\n",
       "      <td>0.000000</td>\n",
       "      <td>206.000000</td>\n",
       "      <td>117.000000</td>\n",
       "      <td>75.000000</td>\n",
       "      <td>23.077500</td>\n",
       "      <td>68.000000</td>\n",
       "      <td>72.000000</td>\n",
       "      <td>0.000000</td>\n",
       "    </tr>\n",
       "    <tr>\n",
       "      <th>50%</th>\n",
       "      <td>0.000000</td>\n",
       "      <td>49.000000</td>\n",
       "      <td>2.000000</td>\n",
       "      <td>0.000000</td>\n",
       "      <td>0.000000</td>\n",
       "      <td>0.000000</td>\n",
       "      <td>0.000000</td>\n",
       "      <td>0.000000</td>\n",
       "      <td>0.000000</td>\n",
       "      <td>234.000000</td>\n",
       "      <td>128.000000</td>\n",
       "      <td>82.000000</td>\n",
       "      <td>25.397500</td>\n",
       "      <td>75.000000</td>\n",
       "      <td>78.000000</td>\n",
       "      <td>0.000000</td>\n",
       "    </tr>\n",
       "    <tr>\n",
       "      <th>75%</th>\n",
       "      <td>1.000000</td>\n",
       "      <td>56.000000</td>\n",
       "      <td>3.000000</td>\n",
       "      <td>1.000000</td>\n",
       "      <td>20.000000</td>\n",
       "      <td>0.000000</td>\n",
       "      <td>0.000000</td>\n",
       "      <td>1.000000</td>\n",
       "      <td>0.000000</td>\n",
       "      <td>262.000000</td>\n",
       "      <td>144.000000</td>\n",
       "      <td>90.000000</td>\n",
       "      <td>28.040000</td>\n",
       "      <td>83.000000</td>\n",
       "      <td>85.000000</td>\n",
       "      <td>0.000000</td>\n",
       "    </tr>\n",
       "    <tr>\n",
       "      <th>max</th>\n",
       "      <td>1.000000</td>\n",
       "      <td>70.000000</td>\n",
       "      <td>4.000000</td>\n",
       "      <td>1.000000</td>\n",
       "      <td>70.000000</td>\n",
       "      <td>1.000000</td>\n",
       "      <td>1.000000</td>\n",
       "      <td>1.000000</td>\n",
       "      <td>1.000000</td>\n",
       "      <td>696.000000</td>\n",
       "      <td>295.000000</td>\n",
       "      <td>142.500000</td>\n",
       "      <td>56.800000</td>\n",
       "      <td>143.000000</td>\n",
       "      <td>394.000000</td>\n",
       "      <td>1.000000</td>\n",
       "    </tr>\n",
       "  </tbody>\n",
       "</table>\n",
       "</div>"
      ],
      "text/plain": [
       "              male          age    education  currentSmoker   cigsPerDay  \\\n",
       "count  4240.000000  4240.000000  4240.000000    4240.000000  4240.000000   \n",
       "mean      0.429245    49.580189     1.979953       0.494104     9.081132   \n",
       "std       0.495027     8.572942     1.007087       0.500024    11.916119   \n",
       "min       0.000000    32.000000     1.000000       0.000000     0.000000   \n",
       "25%       0.000000    42.000000     1.000000       0.000000     0.000000   \n",
       "50%       0.000000    49.000000     2.000000       0.000000     0.000000   \n",
       "75%       1.000000    56.000000     3.000000       1.000000    20.000000   \n",
       "max       1.000000    70.000000     4.000000       1.000000    70.000000   \n",
       "\n",
       "            BPMeds  prevalentStroke  prevalentHyp     diabetes      totChol  \\\n",
       "count  4240.000000      4240.000000   4240.000000  4240.000000  4240.000000   \n",
       "mean      0.029245         0.005896      0.310613     0.025708   236.667689   \n",
       "std       0.168513         0.076569      0.462799     0.158280    44.328480   \n",
       "min       0.000000         0.000000      0.000000     0.000000   107.000000   \n",
       "25%       0.000000         0.000000      0.000000     0.000000   206.000000   \n",
       "50%       0.000000         0.000000      0.000000     0.000000   234.000000   \n",
       "75%       0.000000         0.000000      1.000000     0.000000   262.000000   \n",
       "max       1.000000         1.000000      1.000000     1.000000   696.000000   \n",
       "\n",
       "             sysBP        diaBP          BMI    heartRate      glucose  \\\n",
       "count  4240.000000  4240.000000  4240.000000  4240.000000  4240.000000   \n",
       "mean    132.354599    82.897759    25.798756    75.878774    81.600943   \n",
       "std      22.033300    11.910394     4.072774    12.023937    22.860340   \n",
       "min      83.500000    48.000000    15.540000    44.000000    40.000000   \n",
       "25%     117.000000    75.000000    23.077500    68.000000    72.000000   \n",
       "50%     128.000000    82.000000    25.397500    75.000000    78.000000   \n",
       "75%     144.000000    90.000000    28.040000    83.000000    85.000000   \n",
       "max     295.000000   142.500000    56.800000   143.000000   394.000000   \n",
       "\n",
       "        TenYearCHD  \n",
       "count  4240.000000  \n",
       "mean      0.151887  \n",
       "std       0.358953  \n",
       "min       0.000000  \n",
       "25%       0.000000  \n",
       "50%       0.000000  \n",
       "75%       0.000000  \n",
       "max       1.000000  "
      ]
     },
     "execution_count": 27,
     "metadata": {},
     "output_type": "execute_result"
    }
   ],
   "source": [
    "#  describe the data\n",
    "df.describe()"
   ]
  },
  {
   "cell_type": "code",
   "execution_count": 28,
   "id": "163f493d",
   "metadata": {
    "scrolled": true
   },
   "outputs": [
    {
     "data": {
      "image/png": "[encoded data removed]",
      "text/plain": [
       "<Figure size 432x288 with 1 Axes>"
      ]
     },
     "metadata": {
      "needs_background": "light"
     },
     "output_type": "display_data"
    }
   ],
   "source": [
    "#  Plot CHD vs gender\n",
    "df['Count_10YCHD'] = 1\n",
    "# create pivot table to count how many female and male are TenYearCHD positive and negative and graph it\n",
    "gender_pv_df = df.pivot_table('Count_10YCHD', ['male', 'TenYearCHD'], aggfunc=\"sum\").reset_index()\n",
    "# plot the bar graph to show probabilities by Gender\n",
    "gender_bar = sns.barplot(x=\"male\", y=\"Count_10YCHD\", hue=\"TenYearCHD\", palette=\"Blues\",data=gender_pv_df)\n",
    "gender_bar.set_title('Graph showing relation between Gender and risk of CHD')\n",
    "plt.setp(gender_bar.get_xticklabels(), rotation=60)\n",
    "legend = gender_bar.get_legend()\n",
    "legend.set_bbox_to_anchor((1, 1))\n"
   ]
  },
  {
   "cell_type": "markdown",
   "id": "c79bf4ac",
   "metadata": {},
   "source": [
    "#### Observation: Approximatey 12.29% of women and 18.92% of men are positive for CHD. According to the data sets, male have sown little higher risk of CHD.\n"
   ]
  },
  {
   "cell_type": "code",
   "execution_count": 29,
   "id": "1e3937de",
   "metadata": {},
   "outputs": [],
   "source": [
    "# 12.29% of female population has developed CHD in 10 years\n",
    "# 18.92% of male population has developed CHD in 10 years\n",
    "gender = df.loc[:, [\"male\" , \"TenYearCHD\",]]\n",
    "male_no = gender.loc[gender[\"male\"] == \"Male\"]\n",
    "male_positive = male_no.loc[male_no[\"TenYearCHD\"] == \"positive\"]\n",
    "female_no = gender.loc[gender[\"male\"] == \"Female\"]\n",
    "female_positive = female_no.loc[female_no[\"TenYearCHD\"] == \"positive\"]\n",
    "positive_male = (male_positive.count()/male_no.count())*100\n",
    "positive_female = (female_positive.count()/female_no.count())*100\n"
   ]
  },
  {
   "cell_type": "code",
   "execution_count": 30,
   "id": "39d98095",
   "metadata": {},
   "outputs": [
    {
     "data": {
      "image/png": "[encoded data removed]",
      "text/plain": [
       "<Figure size 432x288 with 1 Axes>"
      ]
     },
     "metadata": {
      "needs_background": "light"
     },
     "output_type": "display_data"
    }
   ],
   "source": [
    "# let's check if education is relevant - do step 53 and 54 to create pivot table and graph it.\n",
    "# create pivot table to show education vs Ten Year CHD in the dataset\n",
    "\n",
    "education_pv_df = df.pivot_table('Count_10YCHD', ['education', 'TenYearCHD'], aggfunc=\"sum\").reset_index()\n",
    "# plot the bar graph to show probabilities by Education - add % of people had lower education\n",
    "education_bar = sns.barplot(x=\"education\", y=\"Count_10YCHD\", hue=\"TenYearCHD\", palette=\"Blues\",data=education_pv_df)\n",
    "education_bar.set_title('Graph showing relation between Education and risk of CHD')\n",
    "plt.setp(education_bar.get_xticklabels(), rotation=60)\n",
    "legend = education_bar.get_legend()\n",
    "legend.set_bbox_to_anchor((1, 1))"
   ]
  },
  {
   "cell_type": "markdown",
   "id": "f9bab19c",
   "metadata": {},
   "source": [
    "#### Observation: 1.64% of college education developed CHD, 2% of some college education developed CHD, 3.58% of High school or GED education  developed  CHD, and 7.8% of some high school developed CHD. "
   ]
  },
  {
   "cell_type": "code",
   "execution_count": 31,
   "id": "0cd21fdd",
   "metadata": {},
   "outputs": [],
   "source": [
    "education = df.loc[:, [\"education\" , \"TenYearCHD\",]]\n",
    "college_no = education.loc[education[\"education\"] == \"College\"]\n",
    "college_positive = college_no.loc[college_no[\"TenYearCHD\"] == \"positive\"]\n",
    "some_college_no = education.loc[education[\"education\"] == \"Some college or Vocational School\"]\n",
    "somecollege_positive = some_college_no.loc[some_college_no[\"TenYearCHD\"] == \"positive\"]\n",
    "High_GEDNo = education.loc[education[\"education\"] == \"High School or GED\"]\n",
    "High_GEDNo_positive = High_GEDNo.loc[High_GEDNo[\"TenYearCHD\"] == \"positive\"]\n",
    "somehisch_no = education.loc[education[\"education\"] == \"Some High School\"]\n",
    "somehischo_positive = somehisch_no.loc[somehisch_no[\"TenYearCHD\"] == \"positive\"]\n",
    "college_positive_per = (college_positive.count()/education.count())*100\n",
    "somecollege_positive_per = (somecollege_positive.count()/education.count())*100\n",
    "High_GEDNo_positive_per = (High_GEDNo_positive.count()/education.count())*100\n",
    "somehischo_positive_per = (somehischo_positive.count()/education.count())*100\n"
   ]
  },
  {
   "cell_type": "code",
   "execution_count": 32,
   "id": "1366a876",
   "metadata": {},
   "outputs": [
    {
     "data": {
      "text/html": [
       "<div>\n",
       "<style scoped>\n",
       "    .dataframe tbody tr th:only-of-type {\n",
       "        vertical-align: middle;\n",
       "    }\n",
       "\n",
       "    .dataframe tbody tr th {\n",
       "        vertical-align: top;\n",
       "    }\n",
       "\n",
       "    .dataframe thead th {\n",
       "        text-align: right;\n",
       "    }\n",
       "</style>\n",
       "<table border=\"1\" class=\"dataframe\">\n",
       "  <thead>\n",
       "    <tr style=\"text-align: right;\">\n",
       "      <th></th>\n",
       "      <th>male</th>\n",
       "      <th>age</th>\n",
       "      <th>education</th>\n",
       "      <th>currentSmoker</th>\n",
       "      <th>cigsPerDay</th>\n",
       "      <th>BPMeds</th>\n",
       "      <th>prevalentStroke</th>\n",
       "      <th>prevalentHyp</th>\n",
       "      <th>diabetes</th>\n",
       "      <th>totChol</th>\n",
       "      <th>sysBP</th>\n",
       "      <th>diaBP</th>\n",
       "      <th>BMI</th>\n",
       "      <th>heartRate</th>\n",
       "      <th>glucose</th>\n",
       "      <th>TenYearCHD</th>\n",
       "      <th>Count_10YCHD</th>\n",
       "      <th>AgeGroup</th>\n",
       "    </tr>\n",
       "  </thead>\n",
       "  <tbody>\n",
       "    <tr>\n",
       "      <th>0</th>\n",
       "      <td>1</td>\n",
       "      <td>39</td>\n",
       "      <td>4.0</td>\n",
       "      <td>0</td>\n",
       "      <td>0.0</td>\n",
       "      <td>0.0</td>\n",
       "      <td>0</td>\n",
       "      <td>0</td>\n",
       "      <td>0</td>\n",
       "      <td>195.0</td>\n",
       "      <td>106.0</td>\n",
       "      <td>70.0</td>\n",
       "      <td>26.97</td>\n",
       "      <td>80.0</td>\n",
       "      <td>77.0</td>\n",
       "      <td>0</td>\n",
       "      <td>1</td>\n",
       "      <td>30-39 years</td>\n",
       "    </tr>\n",
       "    <tr>\n",
       "      <th>1</th>\n",
       "      <td>0</td>\n",
       "      <td>46</td>\n",
       "      <td>2.0</td>\n",
       "      <td>0</td>\n",
       "      <td>0.0</td>\n",
       "      <td>0.0</td>\n",
       "      <td>0</td>\n",
       "      <td>0</td>\n",
       "      <td>0</td>\n",
       "      <td>250.0</td>\n",
       "      <td>121.0</td>\n",
       "      <td>81.0</td>\n",
       "      <td>28.73</td>\n",
       "      <td>95.0</td>\n",
       "      <td>76.0</td>\n",
       "      <td>0</td>\n",
       "      <td>1</td>\n",
       "      <td>40-49 years</td>\n",
       "    </tr>\n",
       "    <tr>\n",
       "      <th>2</th>\n",
       "      <td>1</td>\n",
       "      <td>48</td>\n",
       "      <td>1.0</td>\n",
       "      <td>1</td>\n",
       "      <td>20.0</td>\n",
       "      <td>0.0</td>\n",
       "      <td>0</td>\n",
       "      <td>0</td>\n",
       "      <td>0</td>\n",
       "      <td>245.0</td>\n",
       "      <td>127.5</td>\n",
       "      <td>80.0</td>\n",
       "      <td>25.34</td>\n",
       "      <td>75.0</td>\n",
       "      <td>70.0</td>\n",
       "      <td>0</td>\n",
       "      <td>1</td>\n",
       "      <td>40-49 years</td>\n",
       "    </tr>\n",
       "    <tr>\n",
       "      <th>3</th>\n",
       "      <td>0</td>\n",
       "      <td>61</td>\n",
       "      <td>3.0</td>\n",
       "      <td>1</td>\n",
       "      <td>30.0</td>\n",
       "      <td>0.0</td>\n",
       "      <td>0</td>\n",
       "      <td>1</td>\n",
       "      <td>0</td>\n",
       "      <td>225.0</td>\n",
       "      <td>150.0</td>\n",
       "      <td>95.0</td>\n",
       "      <td>28.58</td>\n",
       "      <td>65.0</td>\n",
       "      <td>103.0</td>\n",
       "      <td>1</td>\n",
       "      <td>1</td>\n",
       "      <td>60-70years</td>\n",
       "    </tr>\n",
       "    <tr>\n",
       "      <th>4</th>\n",
       "      <td>0</td>\n",
       "      <td>46</td>\n",
       "      <td>3.0</td>\n",
       "      <td>1</td>\n",
       "      <td>23.0</td>\n",
       "      <td>0.0</td>\n",
       "      <td>0</td>\n",
       "      <td>0</td>\n",
       "      <td>0</td>\n",
       "      <td>285.0</td>\n",
       "      <td>130.0</td>\n",
       "      <td>84.0</td>\n",
       "      <td>23.10</td>\n",
       "      <td>85.0</td>\n",
       "      <td>85.0</td>\n",
       "      <td>0</td>\n",
       "      <td>1</td>\n",
       "      <td>40-49 years</td>\n",
       "    </tr>\n",
       "  </tbody>\n",
       "</table>\n",
       "</div>"
      ],
      "text/plain": [
       "   male  age  education  currentSmoker  cigsPerDay  BPMeds  prevalentStroke  \\\n",
       "0     1   39        4.0              0         0.0     0.0                0   \n",
       "1     0   46        2.0              0         0.0     0.0                0   \n",
       "2     1   48        1.0              1        20.0     0.0                0   \n",
       "3     0   61        3.0              1        30.0     0.0                0   \n",
       "4     0   46        3.0              1        23.0     0.0                0   \n",
       "\n",
       "   prevalentHyp  diabetes  totChol  sysBP  diaBP    BMI  heartRate  glucose  \\\n",
       "0             0         0    195.0  106.0   70.0  26.97       80.0     77.0   \n",
       "1             0         0    250.0  121.0   81.0  28.73       95.0     76.0   \n",
       "2             0         0    245.0  127.5   80.0  25.34       75.0     70.0   \n",
       "3             1         0    225.0  150.0   95.0  28.58       65.0    103.0   \n",
       "4             0         0    285.0  130.0   84.0  23.10       85.0     85.0   \n",
       "\n",
       "   TenYearCHD  Count_10YCHD     AgeGroup  \n",
       "0           0             1  30-39 years  \n",
       "1           0             1  40-49 years  \n",
       "2           0             1  40-49 years  \n",
       "3           1             1   60-70years  \n",
       "4           0             1  40-49 years  "
      ]
     },
     "execution_count": 32,
     "metadata": {},
     "output_type": "execute_result"
    }
   ],
   "source": [
    "# let's check which age group and gender smoke more.\n",
    "# to do this, we need to create the agegroup range bins.follow steps 53 and 54 again and graph it\n",
    "df['age'].unique()\n",
    "# lets set the Ages range from max age 32 to 70 to create groups\n",
    "df['AgeGroup'] = pd.cut(x=df['age'], bins = [30 , 39, 49, 59, 70],\n",
    "                              labels=['30-39 years', '40-49 years', '50-59 years', '60-70years'])\n",
    "df.head()\n"
   ]
  },
  {
   "cell_type": "code",
   "execution_count": 33,
   "id": "9fdc459c",
   "metadata": {},
   "outputs": [
    {
     "data": {
      "text/plain": [
       "(array([ 0. ,  2.5,  5. ,  7.5, 10. , 12.5, 15. , 17.5, 20. , 22.5]),\n",
       " [Text(0, 0, ''),\n",
       "  Text(0, 0, ''),\n",
       "  Text(0, 0, ''),\n",
       "  Text(0, 0, ''),\n",
       "  Text(0, 0, ''),\n",
       "  Text(0, 0, ''),\n",
       "  Text(0, 0, ''),\n",
       "  Text(0, 0, ''),\n",
       "  Text(0, 0, ''),\n",
       "  Text(0, 0, '')])"
      ]
     },
     "execution_count": 33,
     "metadata": {},
     "output_type": "execute_result"
    },
    {
     "data": {
      "image/png": "[encoded data removed]",
      "text/plain": [
       "<Figure size 1584x432 with 1 Axes>"
      ]
     },
     "metadata": {
      "needs_background": "light"
     },
     "output_type": "display_data"
    }
   ],
   "source": [
    "# create pivot table to show smokers vs Ten-Year-CHD\n",
    "plt.figure(figsize=(22,6))\n",
    "smoker_bar = sns.barplot(x=\"AgeGroup\", y=\"cigsPerDay\", hue=\"TenYearCHD\", data=df, palette = \"Blues\")\n",
    "plt.box(False)\n",
    "plt.title('Graph showing the relation between cigsPerDay and risk of CHD', fontsize=16)\n",
    "plt.xlabel('\\n Age group', fontsize=14)\n",
    "plt.ylabel('CigsPerDay \\n', fontsize=14)\n",
    "plt.xticks(fontsize=12)\n",
    "plt.yticks(fontsize=12)"
   ]
  },
  {
   "cell_type": "markdown",
   "id": "a1dce96f",
   "metadata": {},
   "source": [
    "#### Observation: Age group 30-39 years shows higher number of cigs per day and more positive for CHD. Low cigsPerDay shows lower risk of CHD."
   ]
  },
  {
   "cell_type": "code",
   "execution_count": 34,
   "id": "6722f872",
   "metadata": {},
   "outputs": [
    {
     "data": {
      "image/png": "[encoded data removed]",
      "text/plain": [
       "<Figure size 432x288 with 1 Axes>"
      ]
     },
     "metadata": {
      "needs_background": "light"
     },
     "output_type": "display_data"
    }
   ],
   "source": [
    "# show smokers by CHD\n",
    "smokers_pv_df = df.pivot_table('Count_10YCHD', ['currentSmoker', 'TenYearCHD'], aggfunc=\"sum\").reset_index()\n",
    "# smokers_pv_df = clean_df.pivot_table('Count_10YCHD', ['Current-Smoker', 'Ten-Year-CHD'], aggfunc=\"sum\").reset_index()\n",
    "smoker_bar = sns.barplot(x=\"currentSmoker\", y=\"Count_10YCHD\", hue=\"TenYearCHD\", palette=\"Blues\", data=smokers_pv_df)\n",
    "smoker_bar.set_title('Ten Year CHD by Current Smoker')\n",
    "plt.setp(smoker_bar.get_xticklabels(), rotation=60)\n",
    "legend = smoker_bar.get_legend()\n",
    "legend.set_bbox_to_anchor((1, 1))\n"
   ]
  },
  {
   "cell_type": "markdown",
   "id": "c97eed5a",
   "metadata": {},
   "source": [
    "#### Observation: About 15.93% people who smoked were positive for CHD.  Also 14.55% people who did not smoke but were also positive for CHD. "
   ]
  },
  {
   "cell_type": "code",
   "execution_count": 35,
   "id": "07aed562",
   "metadata": {},
   "outputs": [
    {
     "data": {
      "text/plain": [
       "currentSmoker   NaN\n",
       "TenYearCHD      NaN\n",
       "dtype: float64"
      ]
     },
     "execution_count": 35,
     "metadata": {},
     "output_type": "execute_result"
    }
   ],
   "source": [
    "# Calculate what percentage of smoked and developed CHD in the age group\n",
    "# Total smokers:7.79% patient smoked\n",
    "tot_smoker = df.loc[:, [\"currentSmoker\" , \"TenYearCHD\",]]\n",
    "tot_smoker_yes = tot_smoker.loc[tot_smoker[\"currentSmoker\"] == \"Yes\"]\n",
    "# tot_smoker_per = (tot_smoker_yes.count()/tot_smoker.count())*100\n",
    "# smoker percentage 15.93% were positive for CHD\n",
    "smoker = df.loc[:, [\"currentSmoker\" , \"TenYearCHD\",]]\n",
    "smoker_yes = smoker.loc[smoker[\"currentSmoker\"] == \"Yes\"]\n",
    "smoker_positive = smoker_yes.loc[smoker_yes[\"TenYearCHD\"] == \"positive\"]\n",
    "smoker_percent = (smoker_positive.count()/tot_smoker_yes.count())*100\n",
    "# 85.45% patient who smoked were negative for CHD\n",
    "# smoker_yes_neg = smoker.loc[smoker[\"Current-Smoker\"] == \"Yes\"]\n",
    "# smoker_CHD_neg = smoker_yes_neg.loc[smoker_yes_neg[\"Ten-Year-CHD\"] == \"negative\"]\n",
    "# smoker_neg_percent = (smoker_CHD_neg.count()/smoker_yes_neg.count())*100\n",
    "# 14.55 % did not smoke but they were positive for CHD\n",
    "no_smoker = smoker.loc[smoker[\"currentSmoker\"] == \"No\"]\n",
    "no_smoker_positive = no_smoker.loc[no_smoker[\"TenYearCHD\"] == \"positive\"]\n",
    "no_smoker_positive_per = (no_smoker_positive.count()/no_smoker.count())*100\n",
    "no_smoker_positive_per"
   ]
  },
  {
   "cell_type": "markdown",
   "id": "16c2e643",
   "metadata": {},
   "source": [
    "#### Observation: 11% of female smoker patients are risk of CHD vs about 20% of male smokers are risk of CHD"
   ]
  },
  {
   "cell_type": "code",
   "execution_count": 36,
   "id": "556edafd",
   "metadata": {},
   "outputs": [
    {
     "data": {
      "image/png": "[encoded data removed]",
      "text/plain": [
       "<Figure size 432x288 with 1 Axes>"
      ]
     },
     "metadata": {
      "needs_background": "light"
     },
     "output_type": "display_data"
    }
   ],
   "source": [
    "# let's check relationship between Diabetes in the incidence of heart disease.\n",
    "# show Diabetes vs Ten Year CHD\n",
    "diabetes_pv_df = df.pivot_table('Count_10YCHD', ['AgeGroup', 'diabetes'], aggfunc=\"sum\").reset_index()\n",
    "# plot the bar graph \n",
    "diabetes_bar = sns.barplot(x=\"AgeGroup\", y=\"Count_10YCHD\", hue=\"diabetes\", palette=\"Blues\",data=diabetes_pv_df)\n",
    "diabetes_bar.set_title('Diabetes by Agr Group')\n",
    "plt.setp(diabetes_bar.get_xticklabels(), rotation=60)\n",
    "legend = diabetes_bar.get_legend()\n",
    "legend.set_bbox_to_anchor((1, 1))\n"
   ]
  },
  {
   "cell_type": "markdown",
   "id": "eb8c0c20",
   "metadata": {},
   "source": [
    "#### Observation: Approximatley .96% patients were positive for CHD who has Diabetes. About 14.27% people who had diabetes did not developed CHD."
   ]
  },
  {
   "cell_type": "code",
   "execution_count": 37,
   "id": "2c492032",
   "metadata": {},
   "outputs": [],
   "source": [
    "# show percentage of people who had Diabetes and they were positive for CHD\n",
    "diabetes = df.loc[:, [\"diabetes\" , \"TenYearCHD\",]]\n",
    "diabetes_yes = diabetes.loc[diabetes[\"diabetes\"] == \"Yes\"]\n",
    "diabetes_positive = diabetes_yes.loc[diabetes_yes[\"TenYearCHD\"] == \"positive\"]\n",
    "diabetes_positive_per = (diabetes_positive.count()/diabetes.count())*100\n",
    "# show percentage of people who did not have Diabetes and they were positive for CHD\n",
    "no_diabetes = diabetes.loc[diabetes[\"diabetes\"] == \"No\"]\n",
    "no_diabetes_positive = no_diabetes.loc[no_diabetes[\"TenYearCHD\"] == \"positive\"]\n",
    "no_diabetes_positive_per = (no_diabetes_positive.count()/diabetes.count())*100\n"
   ]
  },
  {
   "cell_type": "code",
   "execution_count": 38,
   "id": "74a6e59e",
   "metadata": {},
   "outputs": [
    {
     "data": {
      "image/png": "[encoded data removed]",
      "text/plain": [
       "<Figure size 432x288 with 1 Axes>"
      ]
     },
     "metadata": {
      "needs_background": "light"
     },
     "output_type": "display_data"
    }
   ],
   "source": [
    "# show Prevalent-Hyp in total dataset against CHD\n",
    "hyp_pv_df = df.pivot_table('Count_10YCHD', ['prevalentHyp', 'TenYearCHD'], aggfunc=\"sum\").reset_index()\n",
    "hyp_bar = sns.barplot(data = hyp_pv_df, x=\"prevalentHyp\", y=\"Count_10YCHD\", palette=\"Blues\",hue=\"TenYearCHD\")\n",
    "hyp_bar.set_ylabel('Count_10YCHD')\n",
    "legend = hyp_bar.get_legend()\n",
    "legend.set_bbox_to_anchor((1, 1))\n",
    "hyp_bar.set_title('Prevalent-Hyp and Probabilitiy of CHD')\n",
    "legend = hyp_bar.get_legend()\n",
    "legend.set_bbox_to_anchor((1, 1))\n",
    "\n"
   ]
  },
  {
   "cell_type": "code",
   "execution_count": 39,
   "id": "3579b149",
   "metadata": {},
   "outputs": [
    {
     "ename": "FileNotFoundError",
     "evalue": "[Errno 2] No such file or directory: 'Template/Resources/assets/images/totcholbyagegroup.png'",
     "output_type": "error",
     "traceback": [
      "\u001b[1;31m---------------------------------------------------------------------------\u001b[0m",
      "\u001b[1;31mFileNotFoundError\u001b[0m                         Traceback (most recent call last)",
      "\u001b[1;32m<ipython-input-39-d4ccc7d89c97>\u001b[0m in \u001b[0;36m<module>\u001b[1;34m\u001b[0m\n\u001b[0;32m      2\u001b[0m \u001b[0mchol_plot\u001b[0m \u001b[1;33m=\u001b[0m \u001b[0msns\u001b[0m\u001b[1;33m.\u001b[0m\u001b[0mboxplot\u001b[0m\u001b[1;33m(\u001b[0m\u001b[0mx\u001b[0m\u001b[1;33m=\u001b[0m\u001b[1;34m\"AgeGroup\"\u001b[0m\u001b[1;33m,\u001b[0m \u001b[0my\u001b[0m\u001b[1;33m=\u001b[0m\u001b[1;34m\"totChol\"\u001b[0m\u001b[1;33m,\u001b[0m \u001b[0mhue\u001b[0m \u001b[1;33m=\u001b[0m \u001b[1;34m\"TenYearCHD\"\u001b[0m\u001b[1;33m,\u001b[0m \u001b[0mpalette\u001b[0m\u001b[1;33m=\u001b[0m\u001b[1;34m\"Blues\"\u001b[0m\u001b[1;33m,\u001b[0m\u001b[0mdata\u001b[0m\u001b[1;33m=\u001b[0m\u001b[0mdf\u001b[0m\u001b[1;33m)\u001b[0m\u001b[1;33m\u001b[0m\u001b[1;33m\u001b[0m\u001b[0m\n\u001b[0;32m      3\u001b[0m \u001b[0mchol_plot\u001b[0m\u001b[1;33m.\u001b[0m\u001b[0mset_title\u001b[0m\u001b[1;33m(\u001b[0m\u001b[1;34m'Total Cholesterol by age group'\u001b[0m\u001b[1;33m)\u001b[0m\u001b[1;33m\u001b[0m\u001b[1;33m\u001b[0m\u001b[0m\n\u001b[1;32m----> 4\u001b[1;33m \u001b[0mplt\u001b[0m\u001b[1;33m.\u001b[0m\u001b[0msavefig\u001b[0m\u001b[1;33m(\u001b[0m\u001b[1;34m\"Template/Resources/assets/images/totcholbyagegroup.png\"\u001b[0m\u001b[1;33m)\u001b[0m\u001b[1;33m\u001b[0m\u001b[1;33m\u001b[0m\u001b[0m\n\u001b[0m",
      "\u001b[1;32m~\\anaconda3\\lib\\site-packages\\matplotlib\\pyplot.py\u001b[0m in \u001b[0;36msavefig\u001b[1;34m(*args, **kwargs)\u001b[0m\n\u001b[0;32m    857\u001b[0m \u001b[1;32mdef\u001b[0m \u001b[0msavefig\u001b[0m\u001b[1;33m(\u001b[0m\u001b[1;33m*\u001b[0m\u001b[0margs\u001b[0m\u001b[1;33m,\u001b[0m \u001b[1;33m**\u001b[0m\u001b[0mkwargs\u001b[0m\u001b[1;33m)\u001b[0m\u001b[1;33m:\u001b[0m\u001b[1;33m\u001b[0m\u001b[1;33m\u001b[0m\u001b[0m\n\u001b[0;32m    858\u001b[0m     \u001b[0mfig\u001b[0m \u001b[1;33m=\u001b[0m \u001b[0mgcf\u001b[0m\u001b[1;33m(\u001b[0m\u001b[1;33m)\u001b[0m\u001b[1;33m\u001b[0m\u001b[1;33m\u001b[0m\u001b[0m\n\u001b[1;32m--> 859\u001b[1;33m     \u001b[0mres\u001b[0m \u001b[1;33m=\u001b[0m \u001b[0mfig\u001b[0m\u001b[1;33m.\u001b[0m\u001b[0msavefig\u001b[0m\u001b[1;33m(\u001b[0m\u001b[1;33m*\u001b[0m\u001b[0margs\u001b[0m\u001b[1;33m,\u001b[0m \u001b[1;33m**\u001b[0m\u001b[0mkwargs\u001b[0m\u001b[1;33m)\u001b[0m\u001b[1;33m\u001b[0m\u001b[1;33m\u001b[0m\u001b[0m\n\u001b[0m\u001b[0;32m    860\u001b[0m     \u001b[0mfig\u001b[0m\u001b[1;33m.\u001b[0m\u001b[0mcanvas\u001b[0m\u001b[1;33m.\u001b[0m\u001b[0mdraw_idle\u001b[0m\u001b[1;33m(\u001b[0m\u001b[1;33m)\u001b[0m   \u001b[1;31m# need this if 'transparent=True' to reset colors\u001b[0m\u001b[1;33m\u001b[0m\u001b[1;33m\u001b[0m\u001b[0m\n\u001b[0;32m    861\u001b[0m     \u001b[1;32mreturn\u001b[0m \u001b[0mres\u001b[0m\u001b[1;33m\u001b[0m\u001b[1;33m\u001b[0m\u001b[0m\n",
      "\u001b[1;32m~\\anaconda3\\lib\\site-packages\\matplotlib\\figure.py\u001b[0m in \u001b[0;36msavefig\u001b[1;34m(self, fname, transparent, **kwargs)\u001b[0m\n\u001b[0;32m   2309\u001b[0m                 \u001b[0mpatch\u001b[0m\u001b[1;33m.\u001b[0m\u001b[0mset_edgecolor\u001b[0m\u001b[1;33m(\u001b[0m\u001b[1;34m'none'\u001b[0m\u001b[1;33m)\u001b[0m\u001b[1;33m\u001b[0m\u001b[1;33m\u001b[0m\u001b[0m\n\u001b[0;32m   2310\u001b[0m \u001b[1;33m\u001b[0m\u001b[0m\n\u001b[1;32m-> 2311\u001b[1;33m         \u001b[0mself\u001b[0m\u001b[1;33m.\u001b[0m\u001b[0mcanvas\u001b[0m\u001b[1;33m.\u001b[0m\u001b[0mprint_figure\u001b[0m\u001b[1;33m(\u001b[0m\u001b[0mfname\u001b[0m\u001b[1;33m,\u001b[0m \u001b[1;33m**\u001b[0m\u001b[0mkwargs\u001b[0m\u001b[1;33m)\u001b[0m\u001b[1;33m\u001b[0m\u001b[1;33m\u001b[0m\u001b[0m\n\u001b[0m\u001b[0;32m   2312\u001b[0m \u001b[1;33m\u001b[0m\u001b[0m\n\u001b[0;32m   2313\u001b[0m         \u001b[1;32mif\u001b[0m \u001b[0mtransparent\u001b[0m\u001b[1;33m:\u001b[0m\u001b[1;33m\u001b[0m\u001b[1;33m\u001b[0m\u001b[0m\n",
      "\u001b[1;32m~\\anaconda3\\lib\\site-packages\\matplotlib\\backend_bases.py\u001b[0m in \u001b[0;36mprint_figure\u001b[1;34m(self, filename, dpi, facecolor, edgecolor, orientation, format, bbox_inches, pad_inches, bbox_extra_artists, backend, **kwargs)\u001b[0m\n\u001b[0;32m   2208\u001b[0m \u001b[1;33m\u001b[0m\u001b[0m\n\u001b[0;32m   2209\u001b[0m             \u001b[1;32mtry\u001b[0m\u001b[1;33m:\u001b[0m\u001b[1;33m\u001b[0m\u001b[1;33m\u001b[0m\u001b[0m\n\u001b[1;32m-> 2210\u001b[1;33m                 result = print_method(\n\u001b[0m\u001b[0;32m   2211\u001b[0m                     \u001b[0mfilename\u001b[0m\u001b[1;33m,\u001b[0m\u001b[1;33m\u001b[0m\u001b[1;33m\u001b[0m\u001b[0m\n\u001b[0;32m   2212\u001b[0m                     \u001b[0mdpi\u001b[0m\u001b[1;33m=\u001b[0m\u001b[0mdpi\u001b[0m\u001b[1;33m,\u001b[0m\u001b[1;33m\u001b[0m\u001b[1;33m\u001b[0m\u001b[0m\n",
      "\u001b[1;32m~\\anaconda3\\lib\\site-packages\\matplotlib\\backend_bases.py\u001b[0m in \u001b[0;36mwrapper\u001b[1;34m(*args, **kwargs)\u001b[0m\n\u001b[0;32m   1637\u001b[0m             \u001b[0mkwargs\u001b[0m\u001b[1;33m.\u001b[0m\u001b[0mpop\u001b[0m\u001b[1;33m(\u001b[0m\u001b[0marg\u001b[0m\u001b[1;33m)\u001b[0m\u001b[1;33m\u001b[0m\u001b[1;33m\u001b[0m\u001b[0m\n\u001b[0;32m   1638\u001b[0m \u001b[1;33m\u001b[0m\u001b[0m\n\u001b[1;32m-> 1639\u001b[1;33m         \u001b[1;32mreturn\u001b[0m \u001b[0mfunc\u001b[0m\u001b[1;33m(\u001b[0m\u001b[1;33m*\u001b[0m\u001b[0margs\u001b[0m\u001b[1;33m,\u001b[0m \u001b[1;33m**\u001b[0m\u001b[0mkwargs\u001b[0m\u001b[1;33m)\u001b[0m\u001b[1;33m\u001b[0m\u001b[1;33m\u001b[0m\u001b[0m\n\u001b[0m\u001b[0;32m   1640\u001b[0m \u001b[1;33m\u001b[0m\u001b[0m\n\u001b[0;32m   1641\u001b[0m     \u001b[1;32mreturn\u001b[0m \u001b[0mwrapper\u001b[0m\u001b[1;33m\u001b[0m\u001b[1;33m\u001b[0m\u001b[0m\n",
      "\u001b[1;32m~\\anaconda3\\lib\\site-packages\\matplotlib\\backends\\backend_agg.py\u001b[0m in \u001b[0;36mprint_png\u001b[1;34m(self, filename_or_obj, metadata, pil_kwargs, *args)\u001b[0m\n\u001b[0;32m    508\u001b[0m         \"\"\"\n\u001b[0;32m    509\u001b[0m         \u001b[0mFigureCanvasAgg\u001b[0m\u001b[1;33m.\u001b[0m\u001b[0mdraw\u001b[0m\u001b[1;33m(\u001b[0m\u001b[0mself\u001b[0m\u001b[1;33m)\u001b[0m\u001b[1;33m\u001b[0m\u001b[1;33m\u001b[0m\u001b[0m\n\u001b[1;32m--> 510\u001b[1;33m         mpl.image.imsave(\n\u001b[0m\u001b[0;32m    511\u001b[0m             \u001b[0mfilename_or_obj\u001b[0m\u001b[1;33m,\u001b[0m \u001b[0mself\u001b[0m\u001b[1;33m.\u001b[0m\u001b[0mbuffer_rgba\u001b[0m\u001b[1;33m(\u001b[0m\u001b[1;33m)\u001b[0m\u001b[1;33m,\u001b[0m \u001b[0mformat\u001b[0m\u001b[1;33m=\u001b[0m\u001b[1;34m\"png\"\u001b[0m\u001b[1;33m,\u001b[0m \u001b[0morigin\u001b[0m\u001b[1;33m=\u001b[0m\u001b[1;34m\"upper\"\u001b[0m\u001b[1;33m,\u001b[0m\u001b[1;33m\u001b[0m\u001b[1;33m\u001b[0m\u001b[0m\n\u001b[0;32m    512\u001b[0m             dpi=self.figure.dpi, metadata=metadata, pil_kwargs=pil_kwargs)\n",
      "\u001b[1;32m~\\anaconda3\\lib\\site-packages\\matplotlib\\image.py\u001b[0m in \u001b[0;36mimsave\u001b[1;34m(fname, arr, vmin, vmax, cmap, format, origin, dpi, metadata, pil_kwargs)\u001b[0m\n\u001b[0;32m   1609\u001b[0m         \u001b[0mpil_kwargs\u001b[0m\u001b[1;33m.\u001b[0m\u001b[0msetdefault\u001b[0m\u001b[1;33m(\u001b[0m\u001b[1;34m\"format\"\u001b[0m\u001b[1;33m,\u001b[0m \u001b[0mformat\u001b[0m\u001b[1;33m)\u001b[0m\u001b[1;33m\u001b[0m\u001b[1;33m\u001b[0m\u001b[0m\n\u001b[0;32m   1610\u001b[0m         \u001b[0mpil_kwargs\u001b[0m\u001b[1;33m.\u001b[0m\u001b[0msetdefault\u001b[0m\u001b[1;33m(\u001b[0m\u001b[1;34m\"dpi\"\u001b[0m\u001b[1;33m,\u001b[0m \u001b[1;33m(\u001b[0m\u001b[0mdpi\u001b[0m\u001b[1;33m,\u001b[0m \u001b[0mdpi\u001b[0m\u001b[1;33m)\u001b[0m\u001b[1;33m)\u001b[0m\u001b[1;33m\u001b[0m\u001b[1;33m\u001b[0m\u001b[0m\n\u001b[1;32m-> 1611\u001b[1;33m         \u001b[0mimage\u001b[0m\u001b[1;33m.\u001b[0m\u001b[0msave\u001b[0m\u001b[1;33m(\u001b[0m\u001b[0mfname\u001b[0m\u001b[1;33m,\u001b[0m \u001b[1;33m**\u001b[0m\u001b[0mpil_kwargs\u001b[0m\u001b[1;33m)\u001b[0m\u001b[1;33m\u001b[0m\u001b[1;33m\u001b[0m\u001b[0m\n\u001b[0m\u001b[0;32m   1612\u001b[0m \u001b[1;33m\u001b[0m\u001b[0m\n\u001b[0;32m   1613\u001b[0m \u001b[1;33m\u001b[0m\u001b[0m\n",
      "\u001b[1;32m~\\anaconda3\\lib\\site-packages\\PIL\\Image.py\u001b[0m in \u001b[0;36msave\u001b[1;34m(self, fp, format, **params)\u001b[0m\n\u001b[0;32m   2167\u001b[0m                 \u001b[0mfp\u001b[0m \u001b[1;33m=\u001b[0m \u001b[0mbuiltins\u001b[0m\u001b[1;33m.\u001b[0m\u001b[0mopen\u001b[0m\u001b[1;33m(\u001b[0m\u001b[0mfilename\u001b[0m\u001b[1;33m,\u001b[0m \u001b[1;34m\"r+b\"\u001b[0m\u001b[1;33m)\u001b[0m\u001b[1;33m\u001b[0m\u001b[1;33m\u001b[0m\u001b[0m\n\u001b[0;32m   2168\u001b[0m             \u001b[1;32melse\u001b[0m\u001b[1;33m:\u001b[0m\u001b[1;33m\u001b[0m\u001b[1;33m\u001b[0m\u001b[0m\n\u001b[1;32m-> 2169\u001b[1;33m                 \u001b[0mfp\u001b[0m \u001b[1;33m=\u001b[0m \u001b[0mbuiltins\u001b[0m\u001b[1;33m.\u001b[0m\u001b[0mopen\u001b[0m\u001b[1;33m(\u001b[0m\u001b[0mfilename\u001b[0m\u001b[1;33m,\u001b[0m \u001b[1;34m\"w+b\"\u001b[0m\u001b[1;33m)\u001b[0m\u001b[1;33m\u001b[0m\u001b[1;33m\u001b[0m\u001b[0m\n\u001b[0m\u001b[0;32m   2170\u001b[0m \u001b[1;33m\u001b[0m\u001b[0m\n\u001b[0;32m   2171\u001b[0m         \u001b[1;32mtry\u001b[0m\u001b[1;33m:\u001b[0m\u001b[1;33m\u001b[0m\u001b[1;33m\u001b[0m\u001b[0m\n",
      "\u001b[1;31mFileNotFoundError\u001b[0m: [Errno 2] No such file or directory: 'Template/Resources/assets/images/totcholbyagegroup.png'"
     ]
    },
    {
     "data": {
      "image/png": "[encoded data removed]",
      "text/plain": [
       "<Figure size 432x288 with 1 Axes>"
      ]
     },
     "metadata": {
      "needs_background": "light"
     },
     "output_type": "display_data"
    }
   ],
   "source": [
    "# same plot as cell 177\n",
    "chol_plot = sns.boxplot(x=\"AgeGroup\", y=\"totChol\", hue = \"TenYearCHD\", palette=\"Blues\",data=df)\n",
    "chol_plot.set_title('Total Cholesterol by age group')\n",
    "plt.savefig(\"Template/Resources/assets/images/totcholbyagegroup.png\")"
   ]
  },
  {
   "cell_type": "code",
   "execution_count": null,
   "id": "43fa618f",
   "metadata": {
    "scrolled": true
   },
   "outputs": [],
   "source": [
    "# compare Glucose to CHD\n",
    "# show Glucose in total dataset against CHD\n",
    "# visualizing feature selection\n",
    "plt.figure(figsize=(10,5))\n",
    "glucose_bar = sns.barplot(x= df['TenYearCHD'], y= df['glucose'], data=df, palette = \"GnBu_d\")\n",
    "plt.title('Graph showing relation between Glucose and risk of CHD', fontsize=16)\n",
    "plt.xlabel('\\n Ten-Year-CHD', fontsize=14)\n",
    "plt.ylabel('Glucose \\n', fontsize=14)\n",
    "legend = glucose_bar.get_legend()\n",
    "plt.xticks(fontsize=12)\n",
    "plt.yticks(fontsize=12)\n",
    "plt.show()\n"
   ]
  },
  {
   "cell_type": "code",
   "execution_count": null,
   "id": "5adca4bc",
   "metadata": {},
   "outputs": [],
   "source": [
    "# show what percentage of population were positive for CHD\n",
    "plt.figure(figsize=(8,8))\n",
    "plt.pie(df['TenYearCHD'].value_counts(), labels=['Neg.','Pos.'], autopct='%1.2f%%', explode=[0,0.2], shadow=True, colors=[\"blue\",\"lightblue\"])\n",
    "my_circle = plt.Circle( (0,0), 0.4, color='white')\n",
    "p = plt.gcf()\n",
    "p.gca().add_artist(my_circle)\n",
    "plt.title('Target Class Count')\n",
    "\n",
    "plt.savefig(\"Template/Resources/assets/images/CHDPositive&NegativeCount.png\")"
   ]
  },
  {
   "cell_type": "markdown",
   "id": "1c8a347e",
   "metadata": {},
   "source": [
    "#### Observations: The distribution is highly imblanced. As in number of negative cases outweight the number of positive cases."
   ]
  },
  {
   "cell_type": "code",
   "execution_count": null,
   "id": "da49c0d0",
   "metadata": {},
   "outputs": [],
   "source": [
    "#  Show relation between sysBP and risk of CHD\n",
    "plt.figure(figsize=(12,8), facecolor='w')\n",
    "sns.barplot(x=df[\"TenYearCHD\"], y=df[\"sysBP\"], palette=\"Blues\")\n",
    "plt.title(\"Graph showing relation between sysBP and risk of CHD\", size=20)\n",
    "plt.ylabel(\"Systolic Blood Pressure\",size=20)\n",
    "plt.xlabel(\"TenYearCHD cases\", size=20)\n",
    "plt.xticks(size=12)\n",
    "plt.yticks(size=12)\n",
    "\n",
    "#  Show relation between diaBP and risk of CHD\n",
    "plt.figure(figsize=(12,8), facecolor='w')\n",
    "sns.barplot(x=df[\"TenYearCHD\"], y=df[\"diaBP\"],palette=\"Blues\")\n",
    "plt.title(\"Graph showing relation between diaBP and risk of CHD\", size=20)\n",
    "plt.ylabel(\"Diastolic Blood Pressure\",size=20)\n",
    "plt.xlabel(\"TenYearCHD cases\", size=20)\n",
    "plt.xticks(size=12)\n",
    "plt.yticks(size=12)\n"
   ]
  },
  {
   "cell_type": "markdown",
   "id": "251b0d0b",
   "metadata": {},
   "source": [
    "#### Observation: high systolic shows slightly higher risk of CHD. Majority of people who has sysBP between 72-130 has lower risk of CHD. Majority of people with diaBP ranging upto 80.0 shows lower resk of CHD."
   ]
  },
  {
   "cell_type": "code",
   "execution_count": null,
   "id": "44063ace",
   "metadata": {},
   "outputs": [],
   "source": [
    "# Check for candidates with Glucose >300 (considered the Glucose factor as an outlier) \n",
    "#### note for the group: I uset boxplot!\n",
    "sns.boxplot(df.glucose,color='blue')\n",
    "Outlier_sysBP = df[(df['glucose'] > 300)] \n",
    "# calculate what percentage of population has Glucose level of 300 and they developed CHD in 10 years\n"
   ]
  },
  {
   "cell_type": "code",
   "execution_count": null,
   "id": "1a250cb8",
   "metadata": {},
   "outputs": [],
   "source": [
    "# Look for candidates with sysBP higher than 220 (BP>220 is considered as an outlier)\n",
    "sns.boxplot(df['sysBP'],color='purple')\n",
    "Outlier_sysBP = df[(df['sysBP'] > 220)] \n"
   ]
  },
  {
   "cell_type": "markdown",
   "id": "ac312c7d",
   "metadata": {},
   "source": [
    "#### Calculate what percentage of population has high HPY and were positive for CHD"
   ]
  },
  {
   "cell_type": "code",
   "execution_count": null,
   "id": "08692367",
   "metadata": {},
   "outputs": [],
   "source": [
    "# plot Blood Pressure by age group\n",
    "bprate_plot1 = sns.boxplot(x=\"AgeGroup\", y=\"sysBP\",data=df)\n",
    "bprate_plot2 = sns.boxplot(x=\"AgeGroup\", y=\"diaBP\",data=df,palette=\"Blues\",linewidth=2.5)\n",
    "bprate_plot1.set_title('BP by age group')\n",
    "\n"
   ]
  },
  {
   "cell_type": "code",
   "execution_count": null,
   "id": "047c8604",
   "metadata": {},
   "outputs": [],
   "source": [
    "# plot Heart rate by age group\n",
    "heart_plot = sns.boxplot(x=\"AgeGroup\", y=\"heartRate\",data=df,palette=\"Set3\",linewidth=2.5)\n",
    "heart_plot.set_title('Heart Rate by age group')\n"
   ]
  },
  {
   "cell_type": "code",
   "execution_count": null,
   "id": "d8597ba0",
   "metadata": {},
   "outputs": [],
   "source": [
    "\n",
    "# plot Glucose by age group\n",
    "glucose_plot = sns.boxplot(x=\"AgeGroup\", y=\"glucose\", data=df)\n",
    "glucose_plot.set_title('Total Glucose by age group')"
   ]
  },
  {
   "cell_type": "code",
   "execution_count": null,
   "id": "22f1d871",
   "metadata": {},
   "outputs": [],
   "source": [
    "# plot BMI by age group\n",
    "bmi_plot = sns.boxplot(x=\"AgeGroup\", y=\"BMI\", data=df)\n",
    "bmi_plot.set_title('Total BMI by age group')"
   ]
  },
  {
   "cell_type": "markdown",
   "id": "af9b6a2c",
   "metadata": {},
   "source": [
    "#### Veronika Patel"
   ]
  },
  {
   "cell_type": "code",
   "execution_count": null,
   "id": "aa8adb72",
   "metadata": {},
   "outputs": [],
   "source": [
    "plt.figure(figsize=(20,10), facecolor='w')\n",
    "sns.boxplot(data=df)\n",
    "plt.show()"
   ]
  },
  {
   "cell_type": "code",
   "execution_count": null,
   "id": "74ee7376",
   "metadata": {},
   "outputs": [],
   "source": []
  }
 ],
 "metadata": {
  "kernelspec": {
   "display_name": "Python 3",
   "language": "python",
   "name": "python3"
  },
  "language_info": {
   "codemirror_mode": {
    "name": "ipython",
    "version": 3
   },
   "file_extension": ".py",
   "mimetype": "text/x-python",
   "name": "python",
   "nbconvert_exporter": "python",
   "pygments_lexer": "ipython3",
   "version": "3.8.8"
  }
 },
 "nbformat": 4,
 "nbformat_minor": 5
}
